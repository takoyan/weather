{
 "cells": [
  {
   "cell_type": "markdown",
   "metadata": {},
   "source": [
    "# json読み込み"
   ]
  },
  {
   "cell_type": "code",
   "execution_count": 3,
   "metadata": {},
   "outputs": [],
   "source": [
    "import json\n",
    "import numpy as np\n",
    "import pandas as pd\n",
    "import math\n",
    "import glob\n",
    "import os\n",
    "import pickle\n",
    "import joblib"
   ]
  },
  {
   "cell_type": "code",
   "execution_count": null,
   "metadata": {},
   "outputs": [],
   "source": [
    "# 遅い\n",
    "with open(\"../../etc/pdr_raw_data/7NM8miyazaki.json\", \"r\") as f:\n",
    "    lines=f.readlines()\n",
    "    for line in lines[1:]:\n",
    "        l=json.loads(line)\n",
    "        df=df.append({'x':l[\"x\"], 'y':l[\"y\"], 'z':l[\"z\"], 'unixTime':l[\"unixTime\"], 'type':l[\"type\"]}, ignore_index=True)"
   ]
  },
  {
   "cell_type": "code",
   "execution_count": 23,
   "metadata": {},
   "outputs": [],
   "source": [
    "# 速い!!!!!!!!!!!\n",
    "a=pd.read_json(\"../../etc/test/test.json\", orient='records', lines=True)\n",
    "a.info()"
   ]
  },
  {
   "cell_type": "code",
   "execution_count": 4,
   "metadata": {},
   "outputs": [],
   "source": [
    "train, test=joblib.load('../../etc/train_test_data_vv1')"
   ]
  },
  {
   "cell_type": "code",
   "execution_count": 7,
   "metadata": {
    "collapsed": true
   },
   "outputs": [
    {
     "data": {
      "text/plain": [
       "<bound method NDFrame.head of                 name      label  acc_avg_x_n<=-0.2  acc_avg_x_-0.2<n<=-0.1  \\\n",
       "8900      6NM6nishio     moving                  0                       0   \n",
       "15392      6NM9yossi     moving                  0                       0   \n",
       "23703    7NM9zimotoD     moving                  0                       0   \n",
       "21519     7NM9yakkun     moving                  0                       0   \n",
       "23927    7NM9zimotoD     moving                  0                       0   \n",
       "...              ...        ...                ...                     ...   \n",
       "12745     6NM9nishio  searching                  0                       0   \n",
       "10780   6NM7tamuchin  searching                  0                       0   \n",
       "1440   5NM7shibataku  searching                  0                       0   \n",
       "21365     7NM9yakkun  searching                  0                       0   \n",
       "9892       6NM7kobeB  searching                  0                       0   \n",
       "\n",
       "       acc_avg_x_-0.1<n<=0.0  acc_avg_x_0.0<n<=0.1  acc_avg_x_0.1<n<=0.2  \\\n",
       "8900                       0                     1                     0   \n",
       "15392                      0                     1                     0   \n",
       "23703                      0                     1                     0   \n",
       "21519                      0                     1                     0   \n",
       "23927                      1                     0                     0   \n",
       "...                      ...                   ...                   ...   \n",
       "12745                      0                     1                     0   \n",
       "10780                      0                     1                     0   \n",
       "1440                       1                     0                     0   \n",
       "21365                      0                     1                     0   \n",
       "9892                       0                     1                     0   \n",
       "\n",
       "       acc_avg_x_0.2_<n  acc_avg_y_n<=-0.2  acc_avg_y_-0.2<n<=-0.1  ...  \\\n",
       "8900                  0                  0                       0  ...   \n",
       "15392                 0                  0                       0  ...   \n",
       "23703                 0                  0                       0  ...   \n",
       "21519                 0                  0                       0  ...   \n",
       "23927                 0                  0                       0  ...   \n",
       "...                 ...                ...                     ...  ...   \n",
       "12745                 0                  0                       0  ...   \n",
       "10780                 0                  0                       0  ...   \n",
       "1440                  0                  0                       0  ...   \n",
       "21365                 0                  0                       0  ...   \n",
       "9892                  0                  0                       0  ...   \n",
       "\n",
       "       step_interval_19100.0<n<=19200.0  step_interval_19200.0<n<=19300.0  \\\n",
       "8900                                  0                                 0   \n",
       "15392                                 0                                 0   \n",
       "23703                                 0                                 0   \n",
       "21519                                 0                                 0   \n",
       "23927                                 0                                 0   \n",
       "...                                 ...                               ...   \n",
       "12745                                 0                                 0   \n",
       "10780                                 0                                 0   \n",
       "1440                                  0                                 0   \n",
       "21365                                 0                                 0   \n",
       "9892                                  0                                 0   \n",
       "\n",
       "       step_interval_19300.0<n<=19400.0  step_interval_19400.0<n<=19500.0  \\\n",
       "8900                                  0                                 0   \n",
       "15392                                 0                                 0   \n",
       "23703                                 0                                 0   \n",
       "21519                                 0                                 0   \n",
       "23927                                 0                                 0   \n",
       "...                                 ...                               ...   \n",
       "12745                                 0                                 0   \n",
       "10780                                 0                                 0   \n",
       "1440                                  0                                 0   \n",
       "21365                                 0                                 0   \n",
       "9892                                  0                                 0   \n",
       "\n",
       "       step_interval_19500.0<n<=19600.0  step_interval_19600.0<n<=19700.0  \\\n",
       "8900                                  0                                 0   \n",
       "15392                                 0                                 0   \n",
       "23703                                 0                                 0   \n",
       "21519                                 0                                 0   \n",
       "23927                                 0                                 0   \n",
       "...                                 ...                               ...   \n",
       "12745                                 0                                 0   \n",
       "10780                                 0                                 0   \n",
       "1440                                  0                                 0   \n",
       "21365                                 0                                 0   \n",
       "9892                                  0                                 0   \n",
       "\n",
       "       step_interval_19700.0<n<=19800.0  step_interval_19800.0<n<=19900.0  \\\n",
       "8900                                  0                                 0   \n",
       "15392                                 0                                 0   \n",
       "23703                                 0                                 0   \n",
       "21519                                 0                                 0   \n",
       "23927                                 0                                 0   \n",
       "...                                 ...                               ...   \n",
       "12745                                 0                                 0   \n",
       "10780                                 0                                 0   \n",
       "1440                                  0                                 0   \n",
       "21365                                 0                                 0   \n",
       "9892                                  0                                 0   \n",
       "\n",
       "       step_interval_19900.0<n<=20000.0  step_interval_20000.0_<n  \n",
       "8900                                  0                         0  \n",
       "15392                                 0                         0  \n",
       "23703                                 0                         0  \n",
       "21519                                 0                         0  \n",
       "23927                                 0                         0  \n",
       "...                                 ...                       ...  \n",
       "12745                                 0                         0  \n",
       "10780                                 0                         0  \n",
       "1440                                  0                         0  \n",
       "21365                                 0                         0  \n",
       "9892                                  0                         0  \n",
       "\n",
       "[6147 rows x 333 columns]>"
      ]
     },
     "execution_count": 7,
     "metadata": {},
     "output_type": "execute_result"
    }
   ],
   "source": [
    "test.head"
   ]
  },
  {
   "cell_type": "markdown",
   "metadata": {},
   "source": [
    "# nCrの計算爆発"
   ]
  },
  {
   "cell_type": "code",
   "execution_count": 5,
   "metadata": {},
   "outputs": [],
   "source": [
    "from scipy.special import comb\n",
    "\n",
    "res=[]\n",
    "for r in range(100, 0, -1):\n",
    "    res+=[comb(100, r)]"
   ]
  },
  {
   "cell_type": "code",
   "execution_count": 7,
   "metadata": {},
   "outputs": [
    {
     "data": {
      "image/png": "[encoded data removed]",
      "text/plain": [
       "<Figure size 432x288 with 1 Axes>"
      ]
     },
     "metadata": {
      "needs_background": "light"
     },
     "output_type": "display_data"
    }
   ],
   "source": [
    "import matplotlib.pyplot as plt\n",
    "\n",
    "plt.plot(range(100, 0, -1), res)\n",
    "plt.show()"
   ]
  }
 ],
 "metadata": {
  "kernelspec": {
   "display_name": "Python 3",
   "language": "python",
   "name": "python3"
  },
  "language_info": {
   "codemirror_mode": {
    "name": "ipython",
    "version": 3
   },
   "file_extension": ".py",
   "mimetype": "text/x-python",
   "name": "python",
   "nbconvert_exporter": "python",
   "pygments_lexer": "ipython3",
   "version": "3.6.9"
  }
 },
 "nbformat": 4,
 "nbformat_minor": 2
}
