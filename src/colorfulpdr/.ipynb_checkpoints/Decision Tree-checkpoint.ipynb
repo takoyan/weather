{
 "cells": [
  {
   "cell_type": "markdown",
   "metadata": {},
   "source": [
    "# import module"
   ]
  },
  {
   "cell_type": "code",
   "execution_count": 1,
   "metadata": {},
   "outputs": [
    {
     "name": "stderr",
     "output_type": "stream",
     "text": [
      "/home/nishiolab/.local/lib/python3.6/site-packages/sklearn/externals/six.py:31: FutureWarning: The module is deprecated in version 0.21 and will be removed in version 0.23 since we've dropped support for Python 2.7. Please rely on the official version of six (https://pypi.org/project/six/).\n",
      "  \"(https://pypi.org/project/six/).\", FutureWarning)\n"
     ]
    }
   ],
   "source": [
    "from sklearn import tree\n",
    "import pandas as pd\n",
    "import numpy as np\n",
    "import os as oss\n",
    "import seaborn as sns; sns.set()\n",
    "import matplotlib.pyplot as plt\n",
    "from sklearn.metrics import confusion_matrix\n",
    "from sklearn.model_selection import StratifiedKFold, cross_validate, KFold, train_test_split\n",
    "from sklearn.metrics import accuracy_score, cohen_kappa_score, make_scorer, f1_score, recall_score\n",
    "\n",
    "import pydotplus, pprint\n",
    "from sklearn.externals.six import StringIO\n",
    "from IPython.display import Image\n",
    "from sklearn.linear_model import LogisticRegression\n",
    "\n",
    "from catboost import CatBoostClassifier, CatBoost\n",
    "import lightgbm as lgb\n",
    "import xgboost as xgb\n",
    "from tqdm import tqdm\n",
    "import glob\n",
    "import pickle"
   ]
  },
  {
   "cell_type": "markdown",
   "metadata": {},
   "source": [
    "# load data"
   ]
  },
  {
   "cell_type": "code",
   "execution_count": 339,
   "metadata": {},
   "outputs": [],
   "source": [
    "#neck_count=pd.read_csv(\"../../etc/neck_peak_num/clipped_std_features.csv\")\n",
    "#step_count=pd.read_csv('../../etc/step_peak_num/w2UO/clipped_std_features.csv')\n",
    "#datas=pd.read_csv('../../etc/windows_features/clipped_std_features.csv')\n",
    "\n",
    "datas=pd.read_csv('../../etc/step_peak_num/clipped_std_features.csv')\n",
    "\n",
    "#datas['count_05']=neck_count['count_05']\n",
    "#datas['count_06']=neck_count['count_06']\n",
    "#datas['count_07']=neck_count['count_07']\n",
    "#datas['count_08']=neck_count['count_08']\n",
    "#datas['count_09']=neck_count['count_09']\n",
    "\n",
    "#datas['count_11']=step_count['count_11']\n",
    "#datas['count_9']=step_count['count_9']\n",
    "#datas['count_1011']=step_count['count_1011']\n",
    "#datas['count_1113']=step_count['count_1113']\n",
    "#datas['count_14']=step_count['count_14']\n",
    "\n",
    "datas=datas[datas['user']!=\"7NM9zimotoB\"]\n",
    "datas=datas[datas['user']!=\"6NM9yossi\"]"
   ]
  },
  {
   "cell_type": "code",
   "execution_count": null,
   "metadata": {},
   "outputs": [],
   "source": [
    "datas=datas.replace({'pre_label': {'m ': 1}})\n",
    "datas=datas.replace({'pre_label': {'s ': 0.5}})\n",
    "datas=datas.replace({'pre_label': {'o ': 0}})\n",
    "datas=datas.replace({'pre_label': {'no ': -1}})\n",
    "datas=datas.replace({'pre_label': {'d ': -1}})\n",
    "datas=datas.replace({'pre_label': {'f ': -1}})\n",
    "datas=datas.replace({'pre_label': {'n ': -1}})"
   ]
  },
  {
   "cell_type": "code",
   "execution_count": 340,
   "metadata": {},
   "outputs": [],
   "source": [
    "moving=datas[datas['label']=='m']\n",
    "observing=datas[datas['label']=='o']\n",
    "searching=datas[datas['label']=='s']"
   ]
  },
  {
   "cell_type": "markdown",
   "metadata": {},
   "source": [
    "# change data format"
   ]
  },
  {
   "cell_type": "code",
   "execution_count": null,
   "metadata": {},
   "outputs": [],
   "source": [
    "# datas=pd.read_csv(\"../../etc/window3_features/clipped_std_features.csv\")\n",
    "df=datas[(datas['label']=='m') | (datas['label']=='s') | (datas['label']=='o')]\n",
    "df['index']=0\n",
    "df.loc[df['label']=='m', 'index']=1\n",
    "df.loc[df['label']=='s', 'index']=2\n",
    "df.loc[df['label']=='o', 'index']=3\n",
    "\n",
    "#file_name='7NM8miyazaki'\n",
    "#df_train=df[df['user']!='{}'.format(file_name)]\n",
    "#df_test=df[df['user']=='{}'.format(file_name)]\n",
    "\n",
    "df_train=df[(df['user']!='5NM7shibataku')&(df['user']!='7NM2zimotoB')&(df['user']!='7NM2zimotoD')&(df['user']!='6NM8kobeC')&(df['user']!='6NM3tamuchin') \\\n",
    "           &(df['user']!='7NM2zimotoC')&(df['user']!='5NM2tiger')&(df['user']!='5NMEXTRAharasho')&(df['user']!='6NM2tamuchin')&(df['user']!='6NM9senkita') \\\n",
    "           &(df['user']!='7NM9zimotoB')&(df['user']!='7NM1zimotoA')&(df['user']!='7NM2miyazaki')&(df['user']!='6NM8yahoo')&(df['user']!='6NM9yossi') \\\n",
    "           &(df['user']!='7NM4miyazaki')&(df['user']!='7NM9miyazaki')&(df['user']!='5NM8kan')&(df['user']!='6NM4tsubouchi')&(df['user']!='5NM1shibataku') \\\n",
    "           &(df['user']!='7NM6zimotoB')&(df['user']!='6NM9tamuchin')&(df['user']!='6NM6yahoo')&(df['user']!='6NM9nishio')]\n",
    "\"\"\"\n",
    "df_test=df[(df['user']=='5NM7shibataku')|(df['user']=='7NM2zimotoB')|(df['user']=='7NM2zimotoD')|(df['user']=='6NM8kobeC')|(df['user']=='6NM3tamuchin') \\\n",
    "           &(df['user']=='7NM2zimotoC')|(df['user']=='5NM2tiger')|(df['user']=='5NMEXTRAharasho')|(df['user']=='6NM2tamuchin')|(df['user']=='6NM9senkita') \\\n",
    "           &(df['user']=='7NM9zimotoB')|(df['user']=='7NM1zimotoA')|(df['user']=='7NM2miyazaki')|(df['user']=='6NM8yahoo')|(df['user']=='6NM9yossi') \\\n",
    "           &(df['user']=='7NM4miyazaki')|(df['user']=='7NM9miyazaki')|(df['user']=='5NM8kan')|(df['user']=='6NM4tsubouchi')|(df['user']=='5NM1shibataku') \\\n",
    "           &(df['user']=='7NM6zimotoB')|(df['user']=='6NM9tamuchin')|(df['user']=='6NM6yahoo')|(df['user']=='6NM9nishio')]\n",
    "\"\"\"\n",
    "# df_test=df[df['user']=='7NM2zimotoC']"
   ]
  },
  {
   "cell_type": "code",
   "execution_count": null,
   "metadata": {},
   "outputs": [],
   "source": [
    "df_test=df[df['user']=='6NM6nishio']"
   ]
  },
  {
   "cell_type": "code",
   "execution_count": null,
   "metadata": {},
   "outputs": [],
   "source": [
    "df_train=df_train[df_train['user']!='6NM6nishio']"
   ]
  },
  {
   "cell_type": "code",
   "execution_count": null,
   "metadata": {},
   "outputs": [],
   "source": [
    "df_train, df_test=train_test_split(df, test_size=0.3)"
   ]
  },
  {
   "cell_type": "code",
   "execution_count": 341,
   "metadata": {},
   "outputs": [
    {
     "name": "stderr",
     "output_type": "stream",
     "text": [
      "/home/nishiolab/.local/lib/python3.6/site-packages/ipykernel_launcher.py:1: SettingWithCopyWarning: \n",
      "A value is trying to be set on a copy of a slice from a DataFrame.\n",
      "Try using .loc[row_indexer,col_indexer] = value instead\n",
      "\n",
      "See the caveats in the documentation: https://pandas.pydata.org/pandas-docs/stable/user_guide/indexing.html#returning-a-view-versus-a-copy\n",
      "  \"\"\"Entry point for launching an IPython kernel.\n",
      "/home/nishiolab/.local/lib/python3.6/site-packages/ipykernel_launcher.py:2: SettingWithCopyWarning: \n",
      "A value is trying to be set on a copy of a slice from a DataFrame.\n",
      "Try using .loc[row_indexer,col_indexer] = value instead\n",
      "\n",
      "See the caveats in the documentation: https://pandas.pydata.org/pandas-docs/stable/user_guide/indexing.html#returning-a-view-versus-a-copy\n",
      "  \n",
      "/home/nishiolab/.local/lib/python3.6/site-packages/ipykernel_launcher.py:3: SettingWithCopyWarning: \n",
      "A value is trying to be set on a copy of a slice from a DataFrame.\n",
      "Try using .loc[row_indexer,col_indexer] = value instead\n",
      "\n",
      "See the caveats in the documentation: https://pandas.pydata.org/pandas-docs/stable/user_guide/indexing.html#returning-a-view-versus-a-copy\n",
      "  This is separate from the ipykernel package so we can avoid doing imports until\n"
     ]
    }
   ],
   "source": [
    "moving['index']=1\n",
    "searching['index']=2\n",
    "observing['index']=3\n",
    "\n",
    "#moving['index2']=1\n",
    "#searching['index2']=2\n",
    "#observing['index2']=3"
   ]
  },
  {
   "cell_type": "code",
   "execution_count": 342,
   "metadata": {},
   "outputs": [],
   "source": [
    "moving_train, moving_test=train_test_split(moving, train_size=6000, random_state=0)\n",
    "observing_train, observing_test=train_test_split(observing, train_size=6000, random_state=0)\n",
    "searching_train, searching_test=train_test_split(searching, train_size=6000, random_state=0)"
   ]
  },
  {
   "cell_type": "code",
   "execution_count": null,
   "metadata": {},
   "outputs": [],
   "source": [
    "moving_test=moving[moving['user']=='6NM6nishio']\n",
    "moving_train=moving[moving['user']!='6NM6nishio']\n",
    "observing_test=observing[observing['user']=='6NM6nishio']\n",
    "observing_train=observing[observing['user']!='6NM6nishio']\n",
    "searching_test=searching[searching['user']=='6NM6nishio']\n",
    "searching_train=searching[searching['user']!='6NM6nishio']"
   ]
  },
  {
   "cell_type": "code",
   "execution_count": 229,
   "metadata": {},
   "outputs": [],
   "source": [
    "df=pd.concat([moving, searching, observing])\n",
    "Y=df['index']\n",
    "X=df.drop(['label', 'user', 'index', 'count_10', 'count_12'], axis=1)"
   ]
  },
  {
   "cell_type": "code",
   "execution_count": 343,
   "metadata": {},
   "outputs": [],
   "source": [
    "df_train=pd.concat([moving_train, searching_train, observing_train])\n",
    "df_test=pd.concat([moving_test, searching_test, observing_test])"
   ]
  },
  {
   "cell_type": "code",
   "execution_count": 344,
   "metadata": {},
   "outputs": [],
   "source": [
    "#x_train=df_train.drop(['label', 'user', 'index', 'count_10', 'count_12'], axis=1)\n",
    "x_train=df_train.drop(['label', 'user', 'index', 'count_1011', 'count_1113'], axis=1)\n",
    "y_train=df_train['index']\n",
    "#x_test=df_test.drop(['label', 'user', 'index', 'count_10', 'count_12'], axis=1)\n",
    "x_test=df_test.drop(['label', 'user', 'index', 'count_1011', 'count_1113'], axis=1)\n",
    "y_test=df_test['index']"
   ]
  },
  {
   "cell_type": "markdown",
   "metadata": {},
   "source": [
    "# make model"
   ]
  },
  {
   "cell_type": "code",
   "execution_count": null,
   "metadata": {},
   "outputs": [],
   "source": [
    "clf=tree.DecisionTreeClassifier(max_depth=5)\n",
    "clf=clf.fit(x_train, y_train)\n",
    "\n",
    "clf_q=tree.DecisionTreeClassifier(max_depth=5)\n",
    "clf_q=clf_q.fit(x_train_q, y_train_q)"
   ]
  },
  {
   "cell_type": "code",
   "execution_count": null,
   "metadata": {},
   "outputs": [],
   "source": [
    "predicted=clf.predict(x_test)\n",
    "\n",
    "predicted_q=clf_q.predict(x_test_q)"
   ]
  },
  {
   "cell_type": "code",
   "execution_count": null,
   "metadata": {},
   "outputs": [],
   "source": [
    "cm = confusion_matrix(y_test, predicted)\n",
    "print(cm)\n",
    "\n",
    "cm_q=confusion_matrix(y_test_q, predicted_q)\n",
    "print(cm_q)"
   ]
  },
  {
   "cell_type": "markdown",
   "metadata": {},
   "source": [
    "# Visualize Result"
   ]
  },
  {
   "cell_type": "code",
   "execution_count": null,
   "metadata": {},
   "outputs": [],
   "source": [
    "dot_data=tree.export_graphviz(clf, out_file=None, feature_names=feature_names, class_names=['0','1','2'])"
   ]
  },
  {
   "cell_type": "code",
   "execution_count": null,
   "metadata": {},
   "outputs": [],
   "source": [
    "graph=pydotplus.graph_from_dot_data(dot_data)\n",
    "graph.progs = {'dot': u\"C:\\\\Program Files (x86)\\\\Graphviz2.38\\\\bin\\\\dot.exe\"}\n",
    "Image(graph.create_png())"
   ]
  },
  {
   "cell_type": "markdown",
   "metadata": {},
   "source": [
    "# SVM(one-rest)"
   ]
  },
  {
   "cell_type": "code",
   "execution_count": null,
   "metadata": {},
   "outputs": [],
   "source": [
    "from sklearn.multiclass import OneVsRestClassifier\n",
    "from sklearn.svm import SVC"
   ]
  },
  {
   "cell_type": "code",
   "execution_count": null,
   "metadata": {},
   "outputs": [],
   "source": [
    "C = 1.\n",
    "kernel = 'rbf'\n",
    "gamma  = 0.01\n",
    "\n",
    "estimator = SVC(C=C, kernel=kernel, gamma=gamma)\n",
    "classifier = OneVsRestClassifier(estimator)\n",
    "classifier.fit(x_train, y_train)\n",
    "pred_y = classifier.predict(x_test)"
   ]
  },
  {
   "cell_type": "code",
   "execution_count": null,
   "metadata": {},
   "outputs": [],
   "source": [
    "print ('One-versus-the-rest: {:.5f}'.format(accuracy_score(y_test, pred_y)))\n",
    "\n",
    "confusion_matrix(y_test, pred_y)"
   ]
  },
  {
   "cell_type": "markdown",
   "metadata": {},
   "source": [
    "# L-SVC"
   ]
  },
  {
   "cell_type": "code",
   "execution_count": 8,
   "metadata": {},
   "outputs": [],
   "source": [
    "from sklearn import svm, metrics, preprocessing\n",
    "from sklearn.model_selection import cross_val_score"
   ]
  },
  {
   "cell_type": "code",
   "execution_count": null,
   "metadata": {},
   "outputs": [],
   "source": [
    "svl1=svm.LinearSVC(loss='hinge', C=1.0, class_weight='balanced', random_state=0, max_iter=100000)\n",
    "svl1.fit(x_train, y_train['index'])"
   ]
  },
  {
   "cell_type": "code",
   "execution_count": null,
   "metadata": {},
   "outputs": [],
   "source": [
    "svl2=svm.LinearSVC(loss='hinge', C=1.0, class_weight='balanced', random_state=0, max_iter=100000)\n",
    "svl2.fit(x_train2, y_train2['index2'])"
   ]
  },
  {
   "cell_type": "code",
   "execution_count": null,
   "metadata": {},
   "outputs": [],
   "source": [
    "len([val for val in y_test['index'] if val==1])"
   ]
  },
  {
   "cell_type": "code",
   "execution_count": null,
   "metadata": {},
   "outputs": [],
   "source": [
    "count=0\n",
    "for i, k in enumerate(y_test['index']):\n",
    "    if k==pre1[i] and k==1:\n",
    "        count+=1\n",
    "print(count)"
   ]
  },
  {
   "cell_type": "code",
   "execution_count": null,
   "metadata": {},
   "outputs": [],
   "source": [
    "pre1=svl1.predict(x_test)\n",
    "ac_score=metrics.accuracy_score(y_test['index'], pre1)\n",
    "print(ac_score)"
   ]
  },
  {
   "cell_type": "code",
   "execution_count": null,
   "metadata": {},
   "outputs": [],
   "source": [
    "a=[i for i in range(len(pre1)) if pre1[i]==0]"
   ]
  },
  {
   "cell_type": "code",
   "execution_count": null,
   "metadata": {},
   "outputs": [],
   "source": [
    "x_test2=x_test.drop(x_test.index[a])"
   ]
  },
  {
   "cell_type": "code",
   "execution_count": null,
   "metadata": {},
   "outputs": [],
   "source": [
    "y_test2=y_test.drop(x_test.index[a])"
   ]
  },
  {
   "cell_type": "code",
   "execution_count": null,
   "metadata": {},
   "outputs": [],
   "source": [
    "pre2=svl2.predict(x_test2)\n",
    "ac_score=metrics.accuracy_score(y_test2['index2'], pre2)\n",
    "print(ac_score)"
   ]
  },
  {
   "cell_type": "code",
   "execution_count": null,
   "metadata": {},
   "outputs": [],
   "source": [
    "scores=cross_val_score(svl, x_test, y_test, cv=10 ,n_jobs=-1)\n",
    "print(\"平均正解率 = \", scores.mean())\n",
    "print(\"正解率の標準偏差 = \", scores.std())"
   ]
  },
  {
   "cell_type": "code",
   "execution_count": null,
   "metadata": {},
   "outputs": [],
   "source": [
    "pre=svl.predict(x_test)\n",
    "ac_score=metrics.accuracy_score(y_test, pre)\n",
    "print(ac_score)"
   ]
  },
  {
   "cell_type": "code",
   "execution_count": null,
   "metadata": {},
   "outputs": [],
   "source": [
    "# std:0.6417859961664224\n",
    "# mm:0.6437027849813959"
   ]
  },
  {
   "cell_type": "code",
   "execution_count": null,
   "metadata": {},
   "outputs": [],
   "source": [
    "cm_svl = confusion_matrix(y_test, pre)\n",
    "print(cm_svl)\n",
    "#cm_q_svl=confusion_matrix(y_test_q, predicted_q)\n",
    "#print(cm_q)"
   ]
  },
  {
   "cell_type": "code",
   "execution_count": null,
   "metadata": {},
   "outputs": [],
   "source": [
    "clf=svm.LinearSVR(loss='hinge', C=1.0, random_state=0)\n",
    "clf.fit(x_train, y_index_train)"
   ]
  },
  {
   "cell_type": "markdown",
   "metadata": {},
   "source": [
    "# SVM"
   ]
  },
  {
   "cell_type": "code",
   "execution_count": 301,
   "metadata": {},
   "outputs": [
    {
     "name": "stdout",
     "output_type": "stream",
     "text": [
      "0.7203855068927656\n",
      "[[3609 1233  304]\n",
      " [ 234  506  148]\n",
      " [  73  300 1790]]\n"
     ]
    }
   ],
   "source": [
    "clf = svm.SVC(kernel='rbf', gamma=0.005, C=1.0)\n",
    "clf.fit(x_train, y_train)\n",
    "\n",
    "clf_pr=clf.predict(x_test)\n",
    "ac_score=metrics.accuracy_score(y_test, clf_pr)\n",
    "\n",
    "print(ac_score)\n",
    "print(confusion_matrix(y_test, clf_pr))"
   ]
  },
  {
   "cell_type": "code",
   "execution_count": 308,
   "metadata": {},
   "outputs": [
    {
     "name": "stdout",
     "output_type": "stream",
     "text": [
      "0.6961454013173944\n",
      "[[3768  549  830]\n",
      " [ 358  154  376]\n",
      " [ 224  154 1785]]\n"
     ]
    }
   ],
   "source": [
    "clf = svm.SVC(kernel='rbf', gamma=0.005, C=1.0)\n",
    "clf.fit(x_train, y_train)\n",
    "\n",
    "clf_pr=clf.predict(x_test)\n",
    "ac_score=metrics.accuracy_score(y_test, clf_pr)\n",
    "\n",
    "print(ac_score)\n",
    "print(confusion_matrix(y_test, clf_pr))"
   ]
  },
  {
   "cell_type": "code",
   "execution_count": 345,
   "metadata": {},
   "outputs": [
    {
     "name": "stdout",
     "output_type": "stream",
     "text": [
      "0.42205415955111003\n",
      "[[1368    2 3777]\n",
      " [ 102    1  785]\n",
      " [  72    0 2091]]\n"
     ]
    }
   ],
   "source": [
    "clf = svm.SVC(kernel='rbf', gamma=0.005, C=1.0)\n",
    "clf.fit(x_train, y_train)\n",
    "\n",
    "clf_pr=clf.predict(x_test)\n",
    "ac_score=metrics.accuracy_score(y_test, clf_pr)\n",
    "\n",
    "print(ac_score)\n",
    "print(confusion_matrix(y_test, clf_pr))"
   ]
  },
  {
   "cell_type": "code",
   "execution_count": 414,
   "metadata": {},
   "outputs": [
    {
     "name": "stdout",
     "output_type": "stream",
     "text": [
      "0.731888127597439\n",
      "[[3816 1177  330]\n",
      " [ 284  709  199]\n",
      " [  91  306 1991]]\n"
     ]
    }
   ],
   "source": [
    "clf = svm.SVC(kernel='rbf', gamma=0.005, C=1.0)\n",
    "clf.fit(x_train, y_train)\n",
    "\n",
    "clf_pr=clf.predict(x_test)\n",
    "ac_score=metrics.accuracy_score(y_test, clf_pr)\n",
    "\n",
    "print(ac_score)\n",
    "print(confusion_matrix(y_test, clf_pr))"
   ]
  },
  {
   "cell_type": "code",
   "execution_count": 230,
   "metadata": {},
   "outputs": [
    {
     "name": "stdout",
     "output_type": "stream",
     "text": [
      "Cross-Validation scores: [0.64028242 0.62876254 0.65440357 0.63210702 0.55576208 0.62862454\n",
      " 0.58587361 0.69182156 0.63680297 0.56319703]\n",
      "Average score: 0.6217637339942172\n"
     ]
    }
   ],
   "source": [
    "clf = svm.SVC(kernel='rbf', gamma=0.005, C=1.0, class_weight='balanced')\n",
    "# 交差検証\n",
    "scores = cross_val_score(clf, X, Y, cv=10)\n",
    "# 各分割におけるスコア\n",
    "print('Cross-Validation scores: {}'.format(scores))\n",
    "# スコアの平均値\n",
    "import numpy as np\n",
    "print('Average score: {}'.format(np.mean(scores)))"
   ]
  },
  {
   "cell_type": "code",
   "execution_count": null,
   "metadata": {},
   "outputs": [],
   "source": [
    "with open('./model.pickle', mode='wb') as fp:\n",
    "    pickle.dump(clf, fp)"
   ]
  },
  {
   "cell_type": "code",
   "execution_count": 3,
   "metadata": {},
   "outputs": [],
   "source": [
    "with open('./model.pickle', mode='rb') as fp:\n",
    "    a=pickle.load(fp)"
   ]
  },
  {
   "cell_type": "code",
   "execution_count": 152,
   "metadata": {},
   "outputs": [
    {
     "name": "stdout",
     "output_type": "stream",
     "text": [
      "0.722116140626755\n"
     ]
    }
   ],
   "source": [
    "clf_pr=clf.predict(x_test)\n",
    "ac_score=metrics.accuracy_score(y_test, clf_pr)\n",
    "print(ac_score)"
   ]
  },
  {
   "cell_type": "markdown",
   "metadata": {},
   "source": [
    "# RVM"
   ]
  },
  {
   "cell_type": "code",
   "execution_count": null,
   "metadata": {},
   "outputs": [],
   "source": [
    "from skrvm import RVC"
   ]
  },
  {
   "cell_type": "code",
   "execution_count": null,
   "metadata": {},
   "outputs": [],
   "source": [
    "rvm=RVC()\n",
    "rvm.fit(x_train, y_train)"
   ]
  },
  {
   "cell_type": "markdown",
   "metadata": {},
   "source": [
    "# ロジスティック回帰"
   ]
  },
  {
   "cell_type": "code",
   "execution_count": null,
   "metadata": {},
   "outputs": [],
   "source": [
    "from sklearn.model_selection import cross_val_score\n",
    "logreg = LogisticRegression()\n",
    "# 交差検証\n",
    "scores = cross_val_score(logreg, iris.data, iris.target)\n",
    "# 各分割におけるスコア\n",
    "print('Cross-Validation scores: {}'.format(scores))\n",
    "# スコアの平均値\n",
    "import numpy as np\n",
    "print('Average score: {}'.format(np.mean(scores)))"
   ]
  },
  {
   "cell_type": "code",
   "execution_count": null,
   "metadata": {},
   "outputs": [],
   "source": [
    "lr = LogisticRegression(random_state=0, max_iter=10000)\n",
    "lr.fit(x_train, y_train)"
   ]
  },
  {
   "cell_type": "code",
   "execution_count": null,
   "metadata": {},
   "outputs": [],
   "source": [
    "lr_pr=lr.predict(x_test)\n",
    "ac_score=metrics.accuracy_score(y_test, lr_pr)\n",
    "print(ac_score)"
   ]
  },
  {
   "cell_type": "code",
   "execution_count": null,
   "metadata": {},
   "outputs": [],
   "source": [
    "from sklearn.model_selection import KFold\n",
    "\n",
    "kfold = KFold(n_splits=10)\n",
    "scores=cross_val_score(lr, X, Y, cv=kfold)\n",
    "print('Cross-Validation scores: {}'.format(scores))\n",
    "\n",
    "print('Average score: {}'.format(np.mean(scores)))"
   ]
  },
  {
   "cell_type": "code",
   "execution_count": null,
   "metadata": {},
   "outputs": [],
   "source": [
    "confusion_matrix(y_test, lr_pr)"
   ]
  },
  {
   "cell_type": "code",
   "execution_count": null,
   "metadata": {},
   "outputs": [],
   "source": [
    "a+=confusion_matrix(y_test, lr_pr)"
   ]
  },
  {
   "cell_type": "code",
   "execution_count": null,
   "metadata": {},
   "outputs": [],
   "source": [
    "a=np.array([[0,0,0],[0,0,0],[0,0,0]])"
   ]
  },
  {
   "cell_type": "markdown",
   "metadata": {},
   "source": [
    "# 多段階ロジスティック"
   ]
  },
  {
   "cell_type": "markdown",
   "metadata": {},
   "source": [
    "## modelの作成"
   ]
  },
  {
   "cell_type": "code",
   "execution_count": null,
   "metadata": {},
   "outputs": [],
   "source": [
    "datas=pd.read_csv(\"../../etc/dif_features/clipped_std_features.csv\")\n",
    "\n",
    "moving=datas[datas['label']=='m']\n",
    "observing=datas[datas['label']=='o']\n",
    "searching=datas[datas['label']=='s']\n",
    "\n",
    "moving['index']=1\n",
    "searching['index']=2\n",
    "observing['index']=2\n",
    "\n",
    "moving['index2']=1\n",
    "searching['index2']=2\n",
    "observing['index2']=3"
   ]
  },
  {
   "cell_type": "code",
   "execution_count": null,
   "metadata": {},
   "outputs": [],
   "source": [
    "moving_test=moving[moving['user']=='7NM8miyazaki']\n",
    "moving_train=moving[moving['user']!='7NM8miyazaki']\n",
    "observing_test=observing[observing['user']=='7NM8miyazaki']\n",
    "observing_train=observing[observing['user']!='7NM8miyazaki']\n",
    "searching_test=searching[searching['user']=='7NM8miyazaki']\n",
    "searching_train=searching[searching['user']!='7NM8miyazaki']"
   ]
  },
  {
   "cell_type": "code",
   "execution_count": null,
   "metadata": {},
   "outputs": [],
   "source": [
    "df_train=pd.concat([moving_train, searching_train, observing_train])\n",
    "df_test=pd.concat([moving_test, searching_test, observing_test])\n",
    "\n",
    "x_train=df_train.drop(['label', 'user', 'index', 'index2'], axis=1)\n",
    "y_train=df_train[['index']]\n",
    "x_test=df_test.drop(['label', 'user', 'index', 'index2', 'pred_m', 'pred_s', 'pred_o'], axis=1)\n",
    "y_test=df_test[['index', 'index2']]\n",
    "\n",
    "lr = LogisticRegression(random_state=0)\n",
    "lr.fit(x_train, y_train)\n",
    "\n",
    "lr_pr=lr.predict(x_train)"
   ]
  },
  {
   "cell_type": "code",
   "execution_count": null,
   "metadata": {},
   "outputs": [],
   "source": [
    "df_train['pre_label']=lr_pr"
   ]
  },
  {
   "cell_type": "code",
   "execution_count": null,
   "metadata": {},
   "outputs": [],
   "source": [
    "df_train2=df_train[~((df_train[\"label\"]=='m') & (df_train['pre_label']==1))]"
   ]
  },
  {
   "cell_type": "code",
   "execution_count": null,
   "metadata": {},
   "outputs": [],
   "source": [
    "x_train2=df_train2.drop(['label', 'user', 'index', 'index2', 'pre_label'], axis=1)\n",
    "y_train2=df_train2[['index2']]"
   ]
  },
  {
   "cell_type": "code",
   "execution_count": null,
   "metadata": {},
   "outputs": [],
   "source": [
    "lr2 = LogisticRegression(random_state=0)\n",
    "lr2.fit(x_train2, y_train2)"
   ]
  },
  {
   "cell_type": "markdown",
   "metadata": {},
   "source": [
    "## modelの適用"
   ]
  },
  {
   "cell_type": "code",
   "execution_count": null,
   "metadata": {},
   "outputs": [],
   "source": [
    "result=pd.DataFrame(columns=['key', 'label'])"
   ]
  },
  {
   "cell_type": "code",
   "execution_count": null,
   "metadata": {},
   "outputs": [],
   "source": [
    "lr_pr=lr.predict(x_test)"
   ]
  },
  {
   "cell_type": "code",
   "execution_count": null,
   "metadata": {},
   "outputs": [],
   "source": [
    "x_test['label']=lr_pr"
   ]
  },
  {
   "cell_type": "code",
   "execution_count": null,
   "metadata": {},
   "outputs": [],
   "source": [
    "result['key']=x_test.index\n",
    "result['label']=lr_pr"
   ]
  },
  {
   "cell_type": "code",
   "execution_count": null,
   "metadata": {},
   "outputs": [],
   "source": [
    "df_test2=x_test[x_test['label']!=1]"
   ]
  },
  {
   "cell_type": "code",
   "execution_count": null,
   "metadata": {},
   "outputs": [],
   "source": [
    "df_test2['ans']=[y_test.loc[row_num]['index2'] for row_num in df_test2.index]"
   ]
  },
  {
   "cell_type": "code",
   "execution_count": null,
   "metadata": {},
   "outputs": [],
   "source": [
    "x_test2=df_test2.drop(['label', 'ans'], axis=1)\n",
    "y_test2=df_test2['ans']"
   ]
  },
  {
   "cell_type": "code",
   "execution_count": null,
   "metadata": {},
   "outputs": [],
   "source": [
    "lr2_pr=lr2.predict(x_test2)"
   ]
  },
  {
   "cell_type": "code",
   "execution_count": null,
   "metadata": {},
   "outputs": [],
   "source": [
    "for row_num, label in zip(x_test2.index, lr2_pr):\n",
    "    result.loc[(result['key']==row_num), 'label']=label"
   ]
  },
  {
   "cell_type": "code",
   "execution_count": null,
   "metadata": {},
   "outputs": [],
   "source": [
    "metrics.accuracy_score(result['label'].values, y_test['index2'])"
   ]
  },
  {
   "cell_type": "code",
   "execution_count": null,
   "metadata": {},
   "outputs": [],
   "source": [
    "ac_score=metrics.accuracy_score(y_test['index'], lr_pr)\n",
    "print(ac_score)"
   ]
  },
  {
   "cell_type": "code",
   "execution_count": null,
   "metadata": {},
   "outputs": [],
   "source": [
    "ac_score=metrics.accuracy_score(y_train['index'], lr_pr)\n",
    "print(ac_score)"
   ]
  },
  {
   "cell_type": "code",
   "execution_count": null,
   "metadata": {},
   "outputs": [],
   "source": [
    "ac_score=metrics.accuracy_score(y_test2, lr2_pr)\n",
    "print(ac_score)"
   ]
  },
  {
   "cell_type": "code",
   "execution_count": null,
   "metadata": {},
   "outputs": [],
   "source": [
    "confusion_matrix(y_test['index2'], result['label'])"
   ]
  },
  {
   "cell_type": "markdown",
   "metadata": {},
   "source": [
    "# GBDT"
   ]
  },
  {
   "cell_type": "code",
   "execution_count": null,
   "metadata": {},
   "outputs": [],
   "source": [
    "scoring = {'accuracy': make_scorer(accuracy_score),\n",
    "           'kappa': make_scorer(cohen_kappa_score)\n",
    "          }\n",
    "skf = StratifiedKFold(n_splits=10,\n",
    "                      shuffle=False,\n",
    "                      random_state=0)"
   ]
  },
  {
   "cell_type": "code",
   "execution_count": null,
   "metadata": {},
   "outputs": [],
   "source": [
    "model = CatBoostClassifier(iterations=500, \n",
    "                           eval_metric = 'Kappa',\n",
    "                           learning_rate=0.01, \n",
    "                           l2_leaf_reg = 9,\n",
    "                           depth=10,\n",
    "                           one_hot_max_size = 50,\n",
    "                           loss_function='Logloss')\n",
    "\n",
    "scores_cat = cross_validate(model, \n",
    "                        x_train,   # \n",
    "                        y_train,\n",
    "                        cv=skf, \n",
    "                        n_jobs = -1,\n",
    "                        scoring=scoring)\n",
    "pprint.pprint(\"CatBoost:{}\".format(scores_cat))\n",
    "pprint.pprint(\"CatBoost_accuracy:{}\".format(scores_cat[\"test_accuracy\"].mean()))\n",
    "pprint.pprint(\"CatBoost_kappa:{}\".format(scores_cat[\"test_kappa\"].mean()))"
   ]
  },
  {
   "cell_type": "code",
   "execution_count": 203,
   "metadata": {},
   "outputs": [
    {
     "name": "stdout",
     "output_type": "stream",
     "text": [
      "Accuracy: 0.7490733460631248\n"
     ]
    }
   ],
   "source": [
    "params = {\n",
    "        'loss_function': 'MultiClass',\n",
    "        'num_boost_round': 5000,\n",
    "        'early_stopping_rounds': 10,\n",
    "        'silent':True}\n",
    "\n",
    "model = CatBoost(params)\n",
    "model.fit(x_train, y_train)\n",
    "\n",
    "y_pred = model.predict(x_test, prediction_type='Class')\n",
    "\n",
    "acc = accuracy_score(y_test, y_pred)\n",
    "print('Accuracy:', acc)"
   ]
  },
  {
   "cell_type": "code",
   "execution_count": null,
   "metadata": {},
   "outputs": [],
   "source": [
    "y_pred = model.predict(x_test, prediction_type='Class')\n",
    "\n",
    "acc = accuracy_score(y_test, y_pred)\n",
    "print('Accuracy:', acc)"
   ]
  },
  {
   "cell_type": "code",
   "execution_count": null,
   "metadata": {},
   "outputs": [],
   "source": [
    "confusion_matrix(y_test, y_pred)"
   ]
  },
  {
   "cell_type": "code",
   "execution_count": null,
   "metadata": {},
   "outputs": [],
   "source": [
    "df=pd.DataFrame(lr_pr, columns=['label'])"
   ]
  },
  {
   "cell_type": "code",
   "execution_count": null,
   "metadata": {},
   "outputs": [],
   "source": [
    "df.to_csv('../../etc/win3_7NM8miyazaki.csv', header=None, index=None)"
   ]
  },
  {
   "cell_type": "code",
   "execution_count": null,
   "metadata": {},
   "outputs": [],
   "source": [
    "params = {\n",
    "        'loss_function': 'MultiClass',\n",
    "        'num_boost_round': 5000,\n",
    "        'early_stopping_rounds': 10,\n",
    "    }\n",
    "\n",
    "# model_nopre = CatBoost(params)\n",
    "# model_nopre.fit(x_train, y_train)\n",
    "\n",
    "y_pred = model_nopre.predict(x_test, prediction_type='Class')\n",
    "\n",
    "acc = accuracy_score(y_test, y_pred)\n",
    "print('Accuracy:', acc)"
   ]
  },
  {
   "cell_type": "markdown",
   "metadata": {},
   "source": [
    "# user単位でのテスト"
   ]
  },
  {
   "cell_type": "code",
   "execution_count": null,
   "metadata": {},
   "outputs": [],
   "source": [
    "xt=np.asarray(x_test)\n",
    "yt=np.asarray(y_test)"
   ]
  },
  {
   "cell_type": "code",
   "execution_count": null,
   "metadata": {},
   "outputs": [],
   "source": [
    "np.append(xt[0], [0,0,0])"
   ]
  },
  {
   "cell_type": "code",
   "execution_count": null,
   "metadata": {},
   "outputs": [],
   "source": [
    "model.predict(np.append(xt[0], [0,0,0]), prediction_type='Class')[0]"
   ]
  },
  {
   "cell_type": "code",
   "execution_count": null,
   "metadata": {},
   "outputs": [],
   "source": [
    "yt"
   ]
  },
  {
   "cell_type": "code",
   "execution_count": null,
   "metadata": {},
   "outputs": [],
   "source": [
    "index=0\n",
    "mm=0\n",
    "ms=0\n",
    "mo=0\n",
    "sm=0\n",
    "ss=0\n",
    "so=0\n",
    "om=0\n",
    "os=0\n",
    "oo=0\n",
    "\n",
    "for row in xt:\n",
    "    if index==0:\n",
    "        row=np.append(row, [1,0,0])\n",
    "        pred=label=model.predict(row, prediction_type='Probability')\n",
    "        label=model.predict(row, prediction_type='Class')\n",
    "        index+=1\n",
    "        continue\n",
    "    row=np.append(row, pred)\n",
    "    pred=model.predict(row, prediction_type='Probability')\n",
    "    label=model.predict(row, prediction_type='Class')\n",
    "    print('label:{}'.format(label[0]))\n",
    "    print('\\n')\n",
    "    if yt[index][0]==1 and label[0]==1:\n",
    "        mm+=1\n",
    "    elif yt[index][0]==1 and label[0]==2:\n",
    "        ms+=1\n",
    "    elif yt[index][0]==1 and label[0]==3:\n",
    "        mo+=1\n",
    "    elif yt[index][0]==2 and label[0]==1:\n",
    "        sm+=1\n",
    "    elif yt[index][0]==2 and label[0]==2:\n",
    "        ss+=1\n",
    "    elif yt[index][0]==2 and label[0]==3:\n",
    "        so+=1\n",
    "    elif yt[index][0]==3 and label[0]==1:\n",
    "        om+=1\n",
    "    elif yt[index][0]==3 and label[0]==2:\n",
    "        os+=1\n",
    "    elif yt[index][0]==3 and label[0]==3:\n",
    "        oo+=1\n",
    "    index+=1"
   ]
  },
  {
   "cell_type": "code",
   "execution_count": null,
   "metadata": {
    "scrolled": true
   },
   "outputs": [],
   "source": [
    "print(mm, ms, mo)\n",
    "print(sm, ss, so)\n",
    "print(om, os, oo)"
   ]
  },
  {
   "cell_type": "code",
   "execution_count": null,
   "metadata": {},
   "outputs": [],
   "source": [
    "mm=0\n",
    "ms=0\n",
    "mo=0\n",
    "sm=0\n",
    "ss=0\n",
    "so=0\n",
    "om=0\n",
    "os=0\n",
    "oo=0"
   ]
  },
  {
   "cell_type": "code",
   "execution_count": null,
   "metadata": {},
   "outputs": [],
   "source": [
    "params = {\n",
    "        'loss_function': 'MultiClass',\n",
    "        'num_boost_round': 5000,\n",
    "        'early_stopping_rounds': 10,\n",
    "    }\n",
    "a=np.array([[0,0,0],[0,0,0],[0,0,0]])\n",
    "\n",
    "datas=pd.read_csv(\"../../etc/pred_features/features.csv\")\n",
    "df=datas[(datas['label']=='m') | (datas['label']=='s') | (datas['label']=='o')]\n",
    "df['index']=0\n",
    "df.loc[df['label']=='m', 'index']=1\n",
    "df.loc[df['label']=='s', 'index']=2\n",
    "df.loc[df['label']=='o', 'index']=3\n",
    "\n",
    "for file in glob.glob(\"../../etc/label/*.csv\"):\n",
    "    file_name=oss.path.basename(file).split(\".csv\")[0]\n",
    "\n",
    "    df_train=df[df['user']!='{}'.format(file_name)]\n",
    "    df_test=df[df['user']=='{}'.format(file_name)]\n",
    "    \n",
    "    x_train=df_train.drop(['label', 'user', 'index'], axis=1)\n",
    "    y_train=df_train[['index']]\n",
    "    x_test=df_test.drop(['label', 'user', 'index', 'pred_m', 'pred_s', 'pred_o'], axis=1)\n",
    "    y_test=df_test[['index']]\n",
    "    \n",
    "    model = CatBoost(params)\n",
    "    model.fit(x_train, y_train)\n",
    "    \n",
    "    index=0\n",
    "    xt=np.asarray(x_test)\n",
    "    yt=np.asarray(y_test)\n",
    "    \n",
    "    for row in xt:\n",
    "        if index==0:\n",
    "            row=np.append(row, [1,0,0])\n",
    "            pred=label=model.predict(row, prediction_type='Probability')\n",
    "            label=model.predict(row, prediction_type='Class')\n",
    "            index+=1\n",
    "            continue\n",
    "        row=np.append(row, pred)\n",
    "        pred=model.predict(row, prediction_type='Probability')\n",
    "        label=model.predict(row, prediction_type='Class')\n",
    "        print('label:{}'.format(label[0]))\n",
    "        print('\\n')\n",
    "        if yt[index][0]==1 and label[0]==1:\n",
    "            mm+=1\n",
    "        elif yt[index][0]==1 and label[0]==2:\n",
    "            ms+=1\n",
    "        elif yt[index][0]==1 and label[0]==3:\n",
    "            mo+=1\n",
    "        elif yt[index][0]==2 and label[0]==1:\n",
    "            sm+=1\n",
    "        elif yt[index][0]==2 and label[0]==2:\n",
    "            ss+=1\n",
    "        elif yt[index][0]==2 and label[0]==3:\n",
    "            so+=1\n",
    "        elif yt[index][0]==3 and label[0]==1:\n",
    "            om+=1\n",
    "        elif yt[index][0]==3 and label[0]==2:\n",
    "            os+=1\n",
    "        elif yt[index][0]==3 and label[0]==3:\n",
    "            oo+=1\n",
    "        index+=1\n",
    "\"\"\"\n",
    "    y_pred = model.predict(x_test, prediction_type='Class')\n",
    "\n",
    "    acc = accuracy_score(y_test, y_pred)\n",
    "    print('Accuracy:', acc)\n",
    "    \n",
    "    a+=confusion_matrix(y_test, y_pred)\"\"\"\n",
    "    "
   ]
  },
  {
   "cell_type": "code",
   "execution_count": null,
   "metadata": {},
   "outputs": [],
   "source": [
    "print(a+np.array([[2569, 555, 242], [743, 626, 429], [276, 318, 1645]]))"
   ]
  },
  {
   "cell_type": "code",
   "execution_count": null,
   "metadata": {
    "scrolled": true
   },
   "outputs": [],
   "source": [
    "feature_importance = model.get_feature_importance()\n",
    "# 棒グラフとしてプロットする\n",
    "plt.figure(figsize=(12, 4))\n",
    "plt.barh(range(len(feature_importance)),\n",
    "        feature_importance,\n",
    "        tick_label=x_train.columns)\n",
    "\n",
    "plt.xlabel('importance')\n",
    "plt.ylabel('features')\n",
    "plt.grid()\n",
    "plt.show()"
   ]
  },
  {
   "cell_type": "markdown",
   "metadata": {},
   "source": [
    "# 推定値を特徴量へ"
   ]
  },
  {
   "cell_type": "code",
   "execution_count": null,
   "metadata": {},
   "outputs": [],
   "source": [
    "df_train['index']=0"
   ]
  },
  {
   "cell_type": "code",
   "execution_count": null,
   "metadata": {},
   "outputs": [],
   "source": [
    "df_train.loc[df_train['label']=='o', 'index']=3"
   ]
  },
  {
   "cell_type": "code",
   "execution_count": null,
   "metadata": {},
   "outputs": [],
   "source": [
    "params = {\n",
    "        'loss_function': 'MultiClass',\n",
    "        'num_boost_round': 5000,\n",
    "        'early_stopping_rounds': 10,\n",
    "    }\n",
    "\n",
    "datas=pd.read_csv(\"../../etc/window3_features/clipped_std_features.csv\")\n",
    "df=datas[(datas['label']=='m') | (datas['label']=='s') | (datas['label']=='o')]\n",
    "df['index']=0\n",
    "df.loc[df['label']=='m', 'index']=1\n",
    "df.loc[df['label']=='s', 'index']=2\n",
    "df.loc[df['label']=='o', 'index']=3\n",
    "\n",
    "for file in glob.glob(\"../../etc/label/*.csv\"):\n",
    "    # 同一ファイル内のすべてのcsvファイルの名前を取得\n",
    "    file_name=os.path.basename(file).split(\".csv\")[0]\n",
    "\n",
    "    df_train=df[df['user']!='{}'.format(file_name)]\n",
    "    df_test=df[df['user']=='{}'.format(file_name)]\n",
    "\n",
    "    x_train=df_train.drop(['label', 'user', 'index'], axis=1)\n",
    "    y_train=df_train[['index']]\n",
    "    x_test=df_test.drop(['label', 'user', 'index'], axis=1)\n",
    "    y_test=df_test[['index']]\n",
    "\n",
    "    model = CatBoost(params)\n",
    "    model.fit(x_train, y_train)\n",
    "\n",
    "    y_pred = model.predict(x_test, prediction_type='Probability')\n",
    "    y_pred=np.append(np.array([[0,0,0]]), y_pred, axis=0)[:-1]\n",
    "    df_test['pred_m']=y_pred[:, 0]\n",
    "    df_test['pred_s']=y_pred[:, 1]\n",
    "    df_test['pred_o']=y_pred[:, 2]\n",
    "\n",
    "    df_test.to_csv('../../etc/pred_features/{}.csv'.format(file_name), index=False)    "
   ]
  },
  {
   "cell_type": "code",
   "execution_count": null,
   "metadata": {},
   "outputs": [],
   "source": [
    "len(user)"
   ]
  },
  {
   "cell_type": "code",
   "execution_count": null,
   "metadata": {},
   "outputs": [],
   "source": [
    "df_test['x']=y_pred.reshape(3, len(y_pred))[0]"
   ]
  },
  {
   "cell_type": "code",
   "execution_count": null,
   "metadata": {},
   "outputs": [],
   "source": [
    "a=np.append(np.array([[0,0,0]]), y_pred, axis=0)"
   ]
  }
 ],
 "metadata": {
  "kernelspec": {
   "display_name": "Python 3",
   "language": "python",
   "name": "python3"
  },
  "language_info": {
   "codemirror_mode": {
    "name": "ipython",
    "version": 3
   },
   "file_extension": ".py",
   "mimetype": "text/x-python",
   "name": "python",
   "nbconvert_exporter": "python",
   "pygments_lexer": "ipython3",
   "version": "3.6.9"
  },
  "toc": {
   "base_numbering": 1,
   "nav_menu": {},
   "number_sections": true,
   "sideBar": true,
   "skip_h1_title": false,
   "title_cell": "Table of Contents",
   "title_sidebar": "Contents",
   "toc_cell": false,
   "toc_position": {},
   "toc_section_display": true,
   "toc_window_display": false
  }
 },
 "nbformat": 4,
 "nbformat_minor": 4
}
