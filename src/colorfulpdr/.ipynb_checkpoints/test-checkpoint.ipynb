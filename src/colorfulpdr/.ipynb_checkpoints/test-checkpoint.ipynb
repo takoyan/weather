{
 "cells": [
  {
   "cell_type": "markdown",
   "metadata": {},
   "source": [
    "# json読み込み"
   ]
  },
  {
   "cell_type": "code",
   "execution_count": 1,
   "metadata": {},
   "outputs": [],
   "source": [
    "import json\n",
    "import numpy as np\n",
    "import pandas as pd\n",
    "import math\n",
    "import glob\n",
    "import os"
   ]
  },
  {
   "cell_type": "code",
   "execution_count": null,
   "metadata": {},
   "outputs": [],
   "source": [
    "# 遅い\n",
    "with open(\"../../etc/pdr_raw_data/7NM8miyazaki.json\", \"r\") as f:\n",
    "    lines=f.readlines()\n",
    "    for line in lines[1:]:\n",
    "        l=json.loads(line)\n",
    "        df=df.append({'x':l[\"x\"], 'y':l[\"y\"], 'z':l[\"z\"], 'unixTime':l[\"unixTime\"], 'type':l[\"type\"]}, ignore_index=True)"
   ]
  },
  {
   "cell_type": "code",
   "execution_count": 23,
   "metadata": {},
   "outputs": [],
   "source": [
    "# 速い!!!!!!!!!!!\n",
    "a=pd.read_json(\"../../etc/test/test.json\", orient='records', lines=True)\n",
    "a.info()"
   ]
  }
 ],
 "metadata": {
  "kernelspec": {
   "display_name": "Python 3",
   "language": "python",
   "name": "python3"
  },
  "language_info": {
   "codemirror_mode": {
    "name": "ipython",
    "version": 3
   },
   "file_extension": ".py",
   "mimetype": "text/x-python",
   "name": "python",
   "nbconvert_exporter": "python",
   "pygments_lexer": "ipython3",
   "version": "3.6.9"
  }
 },
 "nbformat": 4,
 "nbformat_minor": 2
}
