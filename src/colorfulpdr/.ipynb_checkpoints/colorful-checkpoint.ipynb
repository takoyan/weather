{
 "cells": [
  {
   "cell_type": "markdown",
   "metadata": {},
   "source": [
    "# load module"
   ]
  },
  {
   "cell_type": "code",
   "execution_count": 1,
   "metadata": {},
   "outputs": [],
   "source": [
    "import pandas as pd\n",
    "import matplotlib.pyplot as plt\n",
    "import glob\n",
    "import numpy as np"
   ]
  },
  {
   "cell_type": "markdown",
   "metadata": {},
   "source": [
    "# load data"
   ]
  },
  {
   "cell_type": "code",
   "execution_count": 2,
   "metadata": {},
   "outputs": [],
   "source": [
    "path='../data'\n",
    "all_files=glob.glob(path+'/*.csv')"
   ]
  },
  {
   "cell_type": "code",
   "execution_count": 21,
   "metadata": {},
   "outputs": [],
   "source": [
    "states_list=np.array([])\n",
    "\n",
    "for file in all_files:\n",
    "    datas = pd.read_csv(file)\n",
    "    states_list=np.append(states_list, np.array(datas.iloc[:, 0]))"
   ]
  },
  {
   "cell_type": "markdown",
   "metadata": {},
   "source": [
    "# count state"
   ]
  },
  {
   "cell_type": "code",
   "execution_count": 26,
   "metadata": {},
   "outputs": [],
   "source": [
    "no=o=m=s=0"
   ]
  },
  {
   "cell_type": "code",
   "execution_count": 27,
   "metadata": {},
   "outputs": [],
   "source": [
    "for state in states_list:\n",
    "    if state=='no':\n",
    "        no+=1\n",
    "    elif state=='m':\n",
    "        m+=1\n",
    "    elif state=='s':\n",
    "        s+=1\n",
    "    elif state=='o' or state=='f':\n",
    "        o+=1"
   ]
  },
  {
   "cell_type": "code",
   "execution_count": 28,
   "metadata": {
    "scrolled": true
   },
   "outputs": [
    {
     "data": {
      "image/png": "[encoded data removed]",
      "text/plain": [
       "<Figure size 432x288 with 1 Axes>"
      ]
     },
     "metadata": {
      "needs_background": "light"
     },
     "output_type": "display_data"
    }
   ],
   "source": [
    "states=[no, m, s, o]\n",
    "states_name=['no', 'm', 's', 'o']\n",
    "\n",
    "plt.bar(states_name, states)\n",
    "plt.show()"
   ]
  },
  {
   "cell_type": "markdown",
   "metadata": {},
   "source": [
    "## count 2-bug"
   ]
  },
  {
   "cell_type": "code",
   "execution_count": 29,
   "metadata": {
    "collapsed": true
   },
   "outputs": [
    {
     "name": "stdout",
     "output_type": "stream",
     "text": [
      "old_state:m, state_:n\n",
      "old_state:n, state_:n\n",
      "old_state:n, state_:n\n",
      "old_state:n, state_:s\n",
      "old_state:o, state_:n\n",
      "old_state:n, state_:n\n",
      "old_state:n, state_:n\n",
      "old_state:n, state_:n\n",
      "old_state:n, state_:n\n",
      "old_state:n, state_:n\n",
      "old_state:n, state_:n\n",
      "old_state:n, state_:m\n",
      "old_state:o, state_:n\n",
      "old_state:n, state_:n\n",
      "old_state:n, state_:n\n",
      "old_state:n, state_:n\n",
      "old_state:n, state_:n\n",
      "old_state:n, state_:n\n",
      "old_state:n, state_:n\n",
      "old_state:n, state_:n\n",
      "old_state:n, state_:n\n",
      "old_state:n, state_:n\n",
      "old_state:n, state_:n\n",
      "old_state:n, state_:n\n",
      "old_state:n, state_:n\n",
      "old_state:n, state_:m\n",
      "old_state:m, state_:n\n",
      "old_state:n, state_:n\n",
      "old_state:n, state_:m\n",
      "old_state:m, state_:n\n",
      "old_state:n, state_:n\n",
      "old_state:n, state_:n\n",
      "old_state:n, state_:m\n",
      "old_state:m, state_:n\n",
      "old_state:n, state_:n\n",
      "old_state:n, state_:n\n",
      "old_state:n, state_:n\n",
      "old_state:n, state_:n\n",
      "old_state:n, state_:n\n",
      "old_state:n, state_:s\n",
      "old_state:o, state_:n\n",
      "old_state:n, state_:n\n",
      "old_state:n, state_:n\n",
      "old_state:n, state_:n\n",
      "old_state:n, state_:n\n",
      "old_state:n, state_:n\n",
      "old_state:n, state_:n\n",
      "old_state:n, state_:n\n",
      "old_state:n, state_:n\n",
      "old_state:n, state_:n\n",
      "old_state:n, state_:n\n",
      "old_state:n, state_:n\n",
      "old_state:n, state_:n\n",
      "old_state:n, state_:n\n",
      "old_state:n, state_:n\n",
      "old_state:n, state_:n\n",
      "old_state:n, state_:n\n",
      "old_state:n, state_:n\n",
      "old_state:n, state_:n\n",
      "old_state:n, state_:n\n",
      "old_state:n, state_:n\n",
      "old_state:n, state_:n\n",
      "old_state:n, state_:s\n",
      "old_state:s, state_:n\n",
      "old_state:n, state_:n\n",
      "old_state:n, state_:n\n",
      "old_state:n, state_:n\n",
      "old_state:n, state_:n\n",
      "old_state:n, state_:n\n",
      "old_state:n, state_:n\n",
      "old_state:n, state_:n\n",
      "old_state:n, state_:n\n",
      "old_state:n, state_:n\n",
      "old_state:n, state_:n\n",
      "old_state:n, state_:n\n",
      "old_state:n, state_:n\n",
      "old_state:n, state_:o\n",
      "old_state:o, state_:n\n",
      "old_state:n, state_:n\n",
      "old_state:n, state_:n\n",
      "old_state:n, state_:n\n",
      "old_state:n, state_:n\n",
      "old_state:n, state_:n\n",
      "old_state:n, state_:n\n",
      "old_state:n, state_:n\n",
      "old_state:n, state_:n\n",
      "old_state:n, state_:m\n",
      "old_state:m, state_:n\n",
      "old_state:n, state_:n\n",
      "old_state:n, state_:n\n",
      "old_state:n, state_:n\n",
      "old_state:n, state_:n\n",
      "old_state:n, state_:n\n",
      "old_state:n, state_:n\n",
      "old_state:n, state_:n\n",
      "old_state:n, state_:n\n",
      "old_state:n, state_:s\n",
      "old_state:s, state_:n\n",
      "old_state:n, state_:n\n",
      "old_state:n, state_:n\n",
      "old_state:n, state_:n\n",
      "old_state:n, state_:n\n",
      "old_state:n, state_:n\n",
      "old_state:n, state_:n\n",
      "old_state:n, state_:n\n",
      "old_state:n, state_:n\n",
      "old_state:n, state_:o\n",
      "old_state:m, state_:n\n",
      "old_state:n, state_:n\n",
      "old_state:n, state_:n\n",
      "old_state:n, state_:n\n",
      "old_state:n, state_:n\n",
      "old_state:n, state_:n\n",
      "old_state:n, state_:n\n",
      "old_state:n, state_:m\n",
      "old_state:m, state_:n\n",
      "old_state:n, state_:n\n",
      "old_state:n, state_:s\n",
      "old_state:m, state_:n\n",
      "old_state:n, state_:n\n",
      "old_state:n, state_:m\n",
      "old_state:m, state_:n\n",
      "old_state:n, state_:n\n",
      "old_state:n, state_:n\n",
      "old_state:n, state_:s\n",
      "old_state:s, state_:d\n",
      "old_state:d, state_:o\n",
      "old_state:m, state_:n\n",
      "old_state:n, state_:n\n",
      "old_state:n, state_:n\n",
      "old_state:n, state_:n\n",
      "old_state:n, state_:n\n",
      "old_state:n, state_:s\n",
      "old_state:o, state_:n\n",
      "old_state:n, state_:n\n",
      "old_state:n, state_:n\n",
      "old_state:n, state_:n\n",
      "old_state:n, state_:m\n",
      "old_state:m, state_:n\n",
      "old_state:n, state_:n\n",
      "old_state:n, state_:m\n",
      "old_state:s, state_:n\n",
      "old_state:n, state_:n\n",
      "old_state:n, state_:n\n",
      "old_state:n, state_:n\n",
      "old_state:n, state_:n\n",
      "old_state:n, state_:n\n",
      "old_state:n, state_:n\n",
      "old_state:n, state_:m\n",
      "old_state:o, state_:n\n",
      "old_state:n, state_:n\n",
      "old_state:n, state_:n\n",
      "old_state:n, state_:m\n",
      "old_state:o, state_:n\n",
      "old_state:n, state_:n\n",
      "old_state:n, state_:n\n",
      "old_state:n, state_:o\n",
      "old_state:o, state_:n\n",
      "old_state:n, state_:n\n",
      "old_state:n, state_:n\n",
      "old_state:n, state_:n\n",
      "old_state:n, state_:f\n",
      "old_state:o, state_:n\n",
      "old_state:n, state_:n\n",
      "old_state:n, state_:n\n",
      "old_state:n, state_:n\n",
      "old_state:n, state_:n\n",
      "old_state:n, state_:n\n",
      "old_state:n, state_:n\n",
      "old_state:n, state_:n\n",
      "old_state:n, state_:n\n",
      "old_state:n, state_:n\n",
      "old_state:n, state_:n\n",
      "old_state:n, state_:m\n",
      "old_state:o, state_:n\n",
      "old_state:n, state_:n\n",
      "old_state:n, state_:n\n",
      "old_state:n, state_:n\n",
      "old_state:n, state_:n\n",
      "old_state:n, state_:n\n",
      "old_state:n, state_:n\n",
      "old_state:n, state_:n\n",
      "old_state:n, state_:n\n",
      "old_state:n, state_:n\n",
      "old_state:n, state_:n\n",
      "old_state:n, state_:n\n",
      "old_state:n, state_:n\n",
      "old_state:n, state_:m\n",
      "old_state:o, state_:n\n",
      "old_state:n, state_:n\n",
      "old_state:n, state_:m\n",
      "old_state:m, state_:n\n",
      "old_state:n, state_:n\n",
      "old_state:n, state_:n\n",
      "old_state:n, state_:n\n",
      "old_state:n, state_:m\n",
      "old_state:o, state_:n \n",
      "old_state:n , state_:n \n",
      "old_state:n , state_:n \n",
      "old_state:n , state_:n \n",
      "old_state:n , state_:m\n",
      "old_state:m, state_:n\n",
      "old_state:n, state_:n\n",
      "old_state:n, state_:n\n",
      "old_state:n, state_:m\n",
      "old_state:m, state_:n\n",
      "old_state:n, state_:n\n",
      "old_state:n, state_:m\n",
      "old_state:s, state_:n\n",
      "old_state:n, state_:n\n",
      "old_state:n, state_:n\n",
      "old_state:n, state_:n\n",
      "old_state:n, state_:n\n",
      "old_state:n, state_:n\n",
      "old_state:n, state_:n\n",
      "old_state:n, state_:n\n",
      "old_state:n, state_:n\n",
      "old_state:n, state_:n\n",
      "old_state:n, state_:n\n",
      "old_state:n, state_:m\n",
      "old_state:m, state_:n\n",
      "old_state:n, state_:n\n",
      "old_state:n, state_:n\n",
      "old_state:n, state_:n\n",
      "old_state:n, state_:n\n",
      "old_state:n, state_:n\n",
      "old_state:n, state_:n\n",
      "old_state:n, state_:n\n",
      "old_state:n, state_:n\n",
      "old_state:n, state_:n\n",
      "old_state:n, state_:n\n",
      "old_state:n, state_:n\n",
      "old_state:n, state_:n\n",
      "old_state:n, state_:n\n",
      "old_state:n, state_:n\n",
      "old_state:n, state_:n\n",
      "old_state:n, state_:o\n",
      "old_state:m, state_:n\n",
      "old_state:n, state_:n\n",
      "old_state:n, state_:m\n",
      "old_state:o, state_:n\n",
      "old_state:n, state_:n\n",
      "old_state:n, state_:n\n",
      "old_state:n, state_:m\n",
      "old_state:m, state_:n\n",
      "old_state:n, state_:n\n",
      "old_state:n, state_:s\n",
      "old_state:o, state_:n\n",
      "old_state:n, state_:n\n",
      "old_state:n, state_:n\n",
      "old_state:n, state_:n\n",
      "old_state:n, state_:s\n",
      "old_state:m, state_:n\n",
      "old_state:n, state_:n\n",
      "old_state:n, state_:n\n",
      "old_state:n, state_:n\n",
      "old_state:n, state_:n\n",
      "old_state:n, state_:m\n",
      "old_state:m, state_:n\n",
      "old_state:n, state_:n\n",
      "old_state:n, state_:n\n",
      "old_state:n, state_:n\n",
      "old_state:n, state_:s\n",
      "old_state:o, state_:n\n",
      "old_state:n, state_:m\n",
      "old_state:m, state_:n\n",
      "old_state:n, state_:n\n",
      "old_state:n, state_:n\n",
      "old_state:n, state_:n\n",
      "old_state:n, state_:m\n",
      "old_state:m, state_:n\n",
      "old_state:n, state_:n\n",
      "old_state:n, state_:n\n",
      "old_state:n, state_:n\n",
      "old_state:n, state_:n\n",
      "old_state:n, state_:n\n",
      "old_state:n, state_:n\n",
      "old_state:n, state_:n\n",
      "old_state:n, state_:m\n",
      "old_state:m, state_:n\n",
      "old_state:n, state_:n\n",
      "old_state:n, state_:n\n",
      "old_state:n, state_:n\n",
      "old_state:n, state_:n\n",
      "old_state:n, state_:n\n",
      "old_state:n, state_:n\n",
      "old_state:n, state_:n\n",
      "old_state:n, state_:n\n",
      "old_state:n, state_:n\n",
      "old_state:n, state_:n\n",
      "old_state:n, state_:n\n",
      "old_state:n, state_:n\n",
      "old_state:n, state_:n\n",
      "old_state:n, state_:n\n",
      "old_state:n, state_:n\n",
      "old_state:n, state_:n\n",
      "old_state:n, state_:n\n",
      "old_state:n, state_:n\n",
      "old_state:n, state_:n\n",
      "old_state:n, state_:n\n",
      "old_state:n, state_:n\n",
      "old_state:n, state_:n\n",
      "old_state:n, state_:n\n",
      "old_state:n, state_:n\n",
      "old_state:n, state_:n\n",
      "old_state:n, state_:n\n",
      "old_state:n, state_:n\n",
      "old_state:n, state_:n\n",
      "old_state:n, state_:n\n",
      "old_state:n, state_:n\n",
      "old_state:n, state_:n\n",
      "old_state:n, state_:n\n",
      "old_state:n, state_:n\n",
      "old_state:n, state_:n\n",
      "old_state:n, state_:n\n",
      "old_state:n, state_:n\n",
      "old_state:n, state_:n\n",
      "old_state:n, state_:n\n",
      "old_state:n, state_:n\n",
      "old_state:n, state_:n\n",
      "old_state:n, state_:n\n",
      "old_state:n, state_:n\n",
      "old_state:n, state_:n\n",
      "old_state:n, state_:n\n",
      "old_state:n, state_:n\n",
      "old_state:n, state_:n\n",
      "old_state:n, state_:n\n",
      "old_state:n, state_:n\n",
      "old_state:n, state_:n\n",
      "old_state:n, state_:n\n",
      "old_state:n, state_:n\n",
      "old_state:n, state_:n\n",
      "old_state:n, state_:m\n",
      "old_state:s, state_:n\n",
      "old_state:n, state_:n\n",
      "old_state:n, state_:n\n",
      "old_state:n, state_:n\n",
      "old_state:n, state_:n\n",
      "old_state:n, state_:n\n",
      "old_state:n, state_:m\n",
      "old_state:o, state_:n\n",
      "old_state:n, state_:n\n",
      "old_state:n, state_:n\n",
      "old_state:n, state_:n\n",
      "old_state:n, state_:n\n",
      "old_state:n, state_:n\n",
      "old_state:n, state_:n\n",
      "old_state:n, state_:n\n",
      "old_state:n, state_:n\n",
      "old_state:n, state_:n\n",
      "old_state:n, state_:n\n",
      "old_state:n, state_:n\n",
      "old_state:n, state_:n\n",
      "old_state:n, state_:n\n",
      "old_state:n, state_:n\n",
      "old_state:n, state_:n\n",
      "old_state:n, state_:n\n",
      "old_state:n, state_:m\n"
     ]
    }
   ],
   "source": [
    "o_o=o_m=o_s=m_m=m_o=m_s=s_s=s_o=s_m=0\n",
    "states_list=np.array([])\n",
    "old_state='no'\n",
    "\n",
    "for file in all_files:\n",
    "    datas = pd.read_csv(file)\n",
    "    states_list=datas.iloc[:, 0]\n",
    "    for i in range(1, len(states_list)):\n",
    "        if states_list[i]=='no':\n",
    "            old_state='no'\n",
    "            continue\n",
    "        if old_state=='no':\n",
    "            old_state=states_list[i]\n",
    "            continue\n",
    "\n",
    "        old_state=states_list[i-1]\n",
    "        if (old_state=='o' or old_state=='f') and (states_list[i]=='o' or states_list[i]=='f'):\n",
    "            o_o+=1\n",
    "        elif (old_state=='o' or old_state=='f') and states_list[i]=='m':\n",
    "            o_m+=1\n",
    "        elif (old_state=='o' or old_state=='f') and states_list[i]=='s':\n",
    "            o_s+=1\n",
    "        elif old_state=='m' and states_list[i]=='m':\n",
    "            m_m+=1\n",
    "        elif old_state=='m' and states_list[i]=='s':\n",
    "            m_s+=1\n",
    "        elif old_state=='m' and (states_list[i]=='o' or states_list[i]=='f'):\n",
    "            m_o+=1\n",
    "        elif old_state=='s' and states_list[i]=='s':\n",
    "            s_s+=1\n",
    "        elif old_state=='s' and states_list[i]=='m':\n",
    "            s_m+=1\n",
    "        elif old_state=='s' and (states_list[i]=='o' or states_list[i]=='f'):\n",
    "            s_o+=1\n",
    "        else:\n",
    "            print('old_state:{}, state_:{}'.format(old_state, states_list[i]))"
   ]
  },
  {
   "cell_type": "code",
   "execution_count": 30,
   "metadata": {},
   "outputs": [
    {
     "data": {
      "image/png": "[encoded data removed]",
      "text/plain": [
       "<Figure size 432x288 with 1 Axes>"
      ]
     },
     "metadata": {
      "needs_background": "light"
     },
     "output_type": "display_data"
    }
   ],
   "source": [
    "trans=[m_m, m_s, m_o, s_s, s_m, s_o, o_o, o_m, o_s]\n",
    "trans_name=['m_m', 'm_s', 'm_o', 's_s', 's_m', 's_o', 'o_o', 'o_m', 'o_s']\n",
    "\n",
    "plt.bar(trans_name, trans)\n",
    "plt.show()"
   ]
  },
  {
   "cell_type": "code",
   "execution_count": 31,
   "metadata": {},
   "outputs": [
    {
     "data": {
      "text/plain": [
       "24737"
      ]
     },
     "execution_count": 31,
     "metadata": {},
     "output_type": "execute_result"
    }
   ],
   "source": [
    "m_m+m_s+m_o+s_s+s_m+s_o+o_o+o_m+o_s"
   ]
  },
  {
   "cell_type": "code",
   "execution_count": 1,
   "metadata": {},
   "outputs": [
    {
     "data": {
      "text/plain": [
       "0.5507135331864764"
      ]
     },
     "execution_count": 1,
     "metadata": {},
     "output_type": "execute_result"
    }
   ],
   "source": [
    "(5342+1676+4482)/(5342+1676+4482+1820+908+3682+1400+738+834)"
   ]
  },
  {
   "cell_type": "code",
   "execution_count": 41,
   "metadata": {},
   "outputs": [
    {
     "data": {
      "text/plain": [
       "0.03977914418371188"
      ]
     },
     "execution_count": 41,
     "metadata": {},
     "output_type": "execute_result"
    }
   ],
   "source": [
    "o_m/(o_o+o_m+o_s)"
   ]
  },
  {
   "cell_type": "markdown",
   "metadata": {},
   "source": [
    "# Calc Marcov"
   ]
  },
  {
   "cell_type": "code",
   "execution_count": 46,
   "metadata": {},
   "outputs": [],
   "source": [
    "trans_prob=np.array(\n",
    "    [[0.95, 0.03, 0.015],\n",
    "     [0.01, 0.91, 0.07],\n",
    "     [0.039, 0.04, 0.91]])\n",
    "first_state=np.array([0.3,0.3,0.3])"
   ]
  },
  {
   "cell_type": "code",
   "execution_count": 47,
   "metadata": {},
   "outputs": [
    {
     "name": "stdout",
     "output_type": "stream",
     "text": [
      "1歩目\n",
      "[0.2997 0.294  0.2985]\n",
      "2歩目\n",
      "[0.2997 0.294  0.2985]\n",
      "3歩目\n",
      "[0.2997 0.294  0.2985]\n",
      "4歩目\n",
      "[0.2997 0.294  0.2985]\n",
      "5歩目\n",
      "[0.2997 0.294  0.2985]\n",
      "6歩目\n",
      "[0.2997 0.294  0.2985]\n",
      "7歩目\n",
      "[0.2997 0.294  0.2985]\n",
      "8歩目\n",
      "[0.2997 0.294  0.2985]\n",
      "9歩目\n",
      "[0.2997 0.294  0.2985]\n",
      "10歩目\n",
      "[0.2997 0.294  0.2985]\n"
     ]
    }
   ],
   "source": [
    "for i in range(10):\n",
    "    state_prob=np.dot(first_state, trans_prob)\n",
    "    print('{}歩目'.format(i+1))\n",
    "    print(state_prob)"
   ]
  },
  {
   "cell_type": "code",
   "execution_count": 71,
   "metadata": {},
   "outputs": [],
   "source": [
    "from collections import defaultdict\n",
    "\n",
    "def forward_viterbi(y, X, sp, tp, ep):\n",
    "    T = {}\n",
    "    for state in X: # 'Rainy', 'Sunny', 'Cloudy'\n",
    "        ##          prob.      V. path  V. prob.\n",
    "        T[state] = (sp[state], [state], sp[state])\n",
    "    for output in y: # 'sleep', 'sleep'\n",
    "        U = {}\n",
    "        for next_state in X: # 'Rainy', 'Sunny', 'Cloudy'\n",
    "            total = 0\n",
    "            argmax = None\n",
    "            valmax = 0\n",
    "            for source_state in X:\n",
    "                (prob, v_path, v_prob) = T[source_state]\n",
    "                p = ep[source_state][output] * tp[source_state][next_state]\n",
    "                print('ep:{}, tp:{}, p:{}'.format(ep[source_state][output], tp[source_state][next_state], p))\n",
    "                prob *= p\n",
    "                v_prob *= p\n",
    "                total += prob\n",
    "                if v_prob > valmax:\n",
    "                    argmax = v_path + [next_state]\n",
    "                    valmax = v_prob\n",
    "            U[next_state] = (total, argmax, valmax)\n",
    "        T = U\n",
    "    ## apply sum/max to the final states:\n",
    "    total = 0\n",
    "    argmax = None\n",
    "    valmax = 0\n",
    "    for state in X:\n",
    "        (prob, v_path, v_prob) = T[state]\n",
    "        total += prob\n",
    "        if v_prob > valmax:\n",
    "            argmax = v_path\n",
    "            valmax = v_prob\n",
    "    return (total, argmax, valmax)"
   ]
  },
  {
   "cell_type": "code",
   "execution_count": 67,
   "metadata": {},
   "outputs": [],
   "source": [
    "states = ('Rainy', 'Sunny', 'Cloudy')\n",
    "\n",
    "observations = ('sleep', 'sleep')\n",
    "\n",
    "start_probability = {'Rainy': 0.3, 'Sunny': 0.4, 'Cloudy': 0.3}\n",
    "\n",
    "transition_probability = {\n",
    "'Rainy' : {'Rainy': 0.4, 'Sunny': 0.3, 'Cloudy': 0.3},\n",
    "'Sunny' : {'Rainy': 0.2, 'Sunny': 0.7, 'Cloudy': 0.1},\n",
    "'Cloudy' : {'Rainy': 0.4, 'Sunny': 0.1, 'Cloudy': 0.5}\n",
    "}\n",
    "\n",
    "emission_probability = {\n",
    "'Rainy' : {'sleep': 0.4, 'game': 0.4, 'eat': 0.1},\n",
    "'Sunny' : {'sleep': 0.2, 'game': 0.7, 'eat': 0.1},\n",
    "'Cloudy' : {'sleep': 0.2, 'game': 0.2, 'eat': 0.6},\n",
    "}"
   ]
  },
  {
   "cell_type": "code",
   "execution_count": 72,
   "metadata": {},
   "outputs": [
    {
     "name": "stdout",
     "output_type": "stream",
     "text": [
      "ep:0.4, tp:0.4, p:0.16000000000000003\n",
      "ep:0.2, tp:0.2, p:0.04000000000000001\n",
      "ep:0.2, tp:0.4, p:0.08000000000000002\n",
      "ep:0.4, tp:0.3, p:0.12\n",
      "ep:0.2, tp:0.7, p:0.13999999999999999\n",
      "ep:0.2, tp:0.1, p:0.020000000000000004\n",
      "ep:0.4, tp:0.3, p:0.12\n",
      "ep:0.2, tp:0.1, p:0.020000000000000004\n",
      "ep:0.2, tp:0.5, p:0.1\n",
      "ep:0.4, tp:0.4, p:0.16000000000000003\n",
      "ep:0.2, tp:0.2, p:0.04000000000000001\n",
      "ep:0.2, tp:0.4, p:0.08000000000000002\n",
      "ep:0.4, tp:0.3, p:0.12\n",
      "ep:0.2, tp:0.7, p:0.13999999999999999\n",
      "ep:0.2, tp:0.1, p:0.020000000000000004\n",
      "ep:0.4, tp:0.3, p:0.12\n",
      "ep:0.2, tp:0.1, p:0.020000000000000004\n",
      "ep:0.2, tp:0.5, p:0.1\n"
     ]
    },
    {
     "data": {
      "text/plain": [
       "(0.06960000000000001, ['Sunny', 'Sunny', 'Sunny'], 0.007839999999999998)"
      ]
     },
     "execution_count": 72,
     "metadata": {},
     "output_type": "execute_result"
    }
   ],
   "source": [
    "forward_viterbi(observations, states, start_probability, \n",
    "                transition_probability, emission_probability)"
   ]
  }
 ],
 "metadata": {
  "kernelspec": {
   "display_name": "Python 3",
   "language": "python",
   "name": "python3"
  },
  "language_info": {
   "codemirror_mode": {
    "name": "ipython",
    "version": 3
   },
   "file_extension": ".py",
   "mimetype": "text/x-python",
   "name": "python",
   "nbconvert_exporter": "python",
   "pygments_lexer": "ipython3",
   "version": "3.6.9"
  },
  "toc": {
   "base_numbering": 1,
   "nav_menu": {},
   "number_sections": true,
   "sideBar": true,
   "skip_h1_title": false,
   "title_cell": "Table of Contents",
   "title_sidebar": "Contents",
   "toc_cell": false,
   "toc_position": {
    "height": "calc(100% - 180px)",
    "left": "10px",
    "top": "150px",
    "width": "165px"
   },
   "toc_section_display": true,
   "toc_window_display": false
  }
 },
 "nbformat": 4,
 "nbformat_minor": 4
}
