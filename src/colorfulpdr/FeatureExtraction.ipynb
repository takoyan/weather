{
 "cells": [
  {
   "cell_type": "markdown",
   "metadata": {},
   "source": [
    "# import module"
   ]
  },
  {
   "cell_type": "code",
   "execution_count": 3,
   "metadata": {},
   "outputs": [],
   "source": [
    "import json\n",
    "import numpy as np\n",
    "import pandas as pd\n",
    "import math\n",
    "import glob\n",
    "import os\n",
    "from tqdm import tqdm"
   ]
  },
  {
   "cell_type": "markdown",
   "metadata": {},
   "source": [
    "# load data"
   ]
  },
  {
   "cell_type": "code",
   "execution_count": null,
   "metadata": {},
   "outputs": [],
   "source": [
    "for file in glob.glob(\"../../etc/features/*.csv\"):\n",
    "    print(os.path.basename(file).split(\".csv\")[0])"
   ]
  },
  {
   "cell_type": "markdown",
   "metadata": {},
   "source": [
    "# Benri Kansu"
   ]
  },
  {
   "cell_type": "code",
   "execution_count": 2,
   "metadata": {},
   "outputs": [],
   "source": [
    "# 合成加速度\n",
    "def get_SynAcc(x, y, z):\n",
    "    return math.sqrt(x*x + y*y + z*z)\n",
    "\n",
    "# 平均\n",
    "def get_ave(df):\n",
    "    stack_list=[]\n",
    "    for row in df.itertuples():\n",
    "        x, y, z=row[1], row[2], row[3]\n",
    "        stack_list.append(get_SynAcc(x, y, z))\n",
    "    return sum(stack_list)/len(stack_list)\n",
    "\n",
    "# 各軸の平均\n",
    "def get_Ave_value(value):\n",
    "    return sum(value)/len(value)\n",
    "\n",
    "# 各軸の標準偏差\n",
    "def get_Std_value(value):\n",
    "    stack_list=[]\n",
    "    ave=get_Ave_value(value)\n",
    "    stack_list=[(v-ave)**2 for v in value]\n",
    "    return math.sqrt(sum(stack_list)/(len(value)-1))\n",
    "\n",
    "# 幅\n",
    "def get_Range(df):\n",
    "    stack_list=[]\n",
    "    for row in df.itertuples():\n",
    "        x, y, z=row[1], row[2], row[3]\n",
    "        stack_list.append(get_SynAcc(x, y, z))\n",
    "    return max(stack_list) - min(stack_list)\n",
    "\n",
    "# 標準偏差\n",
    "def get_Std(df):\n",
    "    stack_list=[]\n",
    "    ave=get_ave(df)\n",
    "    for row in df.itertuples():\n",
    "        syn=get_SynAcc(row[1], row[2], row[3])\n",
    "        stack_list.append((syn-ave)**2)\n",
    "    return math.sqrt(sum(stack_list)/(len(df)-1))\n",
    "\n",
    "# 歪度\n",
    "def get_Skewness(df):\n",
    "    stack_list=[]\n",
    "    ave=get_ave(df)\n",
    "    for row in df.itertuples():\n",
    "        syn=get_SynAcc(row[1], row[2], row[3])\n",
    "        stack_list.append((syn-ave)**3)\n",
    "    return sum(stack_list)/(get_Std(df)**3)*(len(df)/((len(df)-1)*(len(df)-2)))\n",
    "\n",
    "# 尖度\n",
    "def get_Kurtosis(df):\n",
    "    stack_list=[]\n",
    "    ave=get_ave(df)\n",
    "    for row in df.itertuples():\n",
    "        syn=get_SynAcc(row[1], row[2], row[3])\n",
    "        stack_list.append((syn-ave)**4)\n",
    "    return ((sum(stack_list)/(get_Std(df)**4))*((len(df)*(len(df)+1))/((len(df)-1)*(len(df)-2)*(len(df)-3)))) - (3*(len(df)-1)**2)/((len(df)-2)*(len(df)-3))\n",
    "\n",
    "# エネルギー\n",
    "def get_Energy(df):\n",
    "    stack_list=[]\n",
    "    for row in df.itertuples():\n",
    "        x, y, z=row[1], row[2], row[3]\n",
    "        stack_list.append(get_SynAcc(x, y, z)**2)\n",
    "    return sum(stack_list)\n",
    "\n",
    "def get_Fft(df):\n",
    "    stack_list=[]\n",
    "    for row in df.itertuples():\n",
    "        x,y,z=row[1], row[2], row[3]\n",
    "        stack_list.append(get_SynAcc(x,y,z))\n",
    "    return max(np.fft.fft(stack_list))"
   ]
  },
  {
   "cell_type": "code",
   "execution_count": null,
   "metadata": {},
   "outputs": [],
   "source": [
    "df=pd.read_json(\"../../etc/no_header_pdr_raw_data/{}.json\".format('5NM1shibataku'), orient='records', lines=True)\n",
    "df=df[df['type']=='Accelerometer']"
   ]
  },
  {
   "cell_type": "markdown",
   "metadata": {},
   "source": [
    "# タイムウインド重複なし"
   ]
  },
  {
   "cell_type": "code",
   "execution_count": null,
   "metadata": {},
   "outputs": [],
   "source": [
    "df=pd.read_json(\"../../etc/no_header_pdr_raw_data/{}.json\".format(\"7NM8miyazaki\"), orient='records', lines=True)"
   ]
  },
  {
   "cell_type": "code",
   "execution_count": null,
   "metadata": {},
   "outputs": [],
   "source": [
    "ROUND=1000\n",
    "\n",
    "df_all=df[df['unixTime']//ROUND==((df['unixTime'].min()//ROUND)+30)]\n",
    "df_acc=df_all[df_all['type']=='Accelerometer']"
   ]
  },
  {
   "cell_type": "code",
   "execution_count": null,
   "metadata": {},
   "outputs": [],
   "source": [
    "stack_list=[]\n",
    "for row in df_acc.itertuples():\n",
    "    x,y,z=row[1], row[2], row[3]\n",
    "    stack_list.append(get_SynAcc(x,y,z))"
   ]
  },
  {
   "cell_type": "code",
   "execution_count": null,
   "metadata": {},
   "outputs": [],
   "source": [
    "import numpy as np\n",
    "from scipy import signal\n",
    "import matplotlib.pyplot as plt\n",
    "\n",
    "def fft(time, ampl):\n",
    "   \n",
    "    # サンプリング周期[sec]の計算 #################################################\n",
    "    sampling_cycle = time\n",
    "   \n",
    "    # データ数カウント ############################################################\n",
    "    N = len(ampl)\n",
    "   \n",
    "    # 高速フーリエ変換（ FFT ） ####################################################\n",
    "    fft_ampl = np.fft.fft(ampl)\n",
    "   \n",
    "    # FFT の複素数結果を絶対に変換 ###############################################\n",
    "    abs_fft_amp = np.abs(fft_ampl)\n",
    "   \n",
    "    # 振幅をもとの信号に揃える #####################################################\n",
    "    abs_fft_amp    = abs_fft_amp    / N * 2   # 交流成分\n",
    "    abs_fft_amp[0] = abs_fft_amp[0] / 2       # 直流成分\n",
    "   \n",
    "    # 周波数軸のデータ作成 #######################################################\n",
    "    frequency = np.linspace(0, 1.0/sampling_cycle, N) # 周波数軸　linspace(開始, 終了, 分割数)\n",
    "   \n",
    "    # ピーク検出 ################################################################\n",
    "    maximal_idx = signal.argrelmax(abs_fft_amp[:int(N/2)+1], order=1) # 極大値インデックスの取得\n",
    "    print(maximal_idx)\n",
    "    print(abs_fft_amp)\n",
    "   \n",
    "    # グラフ表示 ################################################################\n",
    "    plt.figure(figsize=(10, 8))\n",
    "    plt.plot(frequency[:int(N/2)+1], abs_fft_amp[:int(N/2)+1])\n",
    "    plt.scatter(frequency[maximal_idx], abs_fft_amp[maximal_idx], c='red', s=25)\n",
    "    plt.grid(True)\n",
    "    plt.title('Fast Fourier Transform')\n",
    "    plt.xlabel('freqency[Hz]')\n",
    "    plt.ylabel('amplitude')\n",
    "    \n",
    "    return fft_ampl\n",
    "    \n",
    "def low_pass_filter(fft_time, fft_amp, cut_off):\n",
    "   \n",
    "    # データ数カウント ############################################################\n",
    "    N = len(fft_amp)\n",
    "   \n",
    "    # cut_off 以下の周波数の amplitude をゼロにする ################################\n",
    "    cut_off2 = fft_time - cut_off\n",
    "    fft_amp[((fft_time > cut_off)&(fft_time < cut_off2))] = 0 + 0j\n",
    "          \n",
    "    # グラフ用に実波形データに変換 #################################################\n",
    "   \n",
    "    # FFT の複素数結果を絶対に変換\n",
    "    abs_fft_amp = np.abs(fft_amp)\n",
    "   \n",
    "    # 振幅をもとの信号に揃える\n",
    "    abs_fft_amp    = abs_fft_amp    / N * 2 # 交流成分\n",
    "    abs_fft_amp[0] = abs_fft_amp[0] / 2     # 直流成分\n",
    "   \n",
    "    # ピーク検出 ################################################################\n",
    "    #maximal_idx = signal.argrelmax(abs_fft_amp[:int(N/2)+1], order=1) # 極大値インデックスの取得\n",
    "    maximal_idx = signal.argrelmax(abs_fft_amp, order=1) # 極大値インデックスの取得\n",
    "   \n",
    "    # グラフ表示 ################################################################\n",
    "    plt.figure(figsize=(10, 8))\n",
    "    #plt.plot(fft_time[:int(N/2)+1], abs_fft_amp[:int(N/2)+1])\n",
    "    #plt.scatter(fft_time[maximal_idx], abs_fft_amp[maximal_idx], c='red', s=25)\n",
    "    plt.plot(fft_time, abs_fft_amp)\n",
    "    plt.scatter(fft_time[maximal_idx], abs_fft_amp[maximal_idx], c='red', s=25)\n",
    "    plt.grid(True)\n",
    "    plt.title('Low Pass Filter')\n",
    "    plt.xlabel('freqency[Hz]')\n",
    "    plt.ylabel('amplitude')\n",
    "   \n",
    "    return fft_time, fft_amp"
   ]
  },
  {
   "cell_type": "markdown",
   "metadata": {},
   "source": [
    "## 差分をとる"
   ]
  },
  {
   "cell_type": "code",
   "execution_count": null,
   "metadata": {},
   "outputs": [],
   "source": [
    "ROUND=1000\n",
    "\n",
    "for file in tqdm(glob.glob(\"../../etc/label/*.csv\")):\n",
    "    file_name=os.path.basename(file).split(\".csv\")[0]\n",
    "    new_df=pd.DataFrame()\n",
    "    label=pd.read_csv(\"../../etc/label/{}.csv\".format(file_name), header=None)\n",
    "    index=0\n",
    "            \n",
    "    df=pd.read_json(\"../../etc/no_header_pdr_raw_data/{}.json\".format(file_name), orient='records', lines=True)\n",
    "\n",
    "    print('{}LOAD DONE!!!!'.format(file_name))\n",
    "            \n",
    "    for i in range(label[0][0], label[0][len(label)-1]+1):\n",
    "        df_all=df[df['unixTime']//ROUND==((df['unixTime'].min()//ROUND)+i)]\n",
    "        df_acc=df_all[df_all['type']=='Accelerometer']\n",
    "        df_gyro=df_all[df_all['type']=='Gyroscope']\n",
    "        \n",
    "        df_old_all=df[df['unixTime']//ROUND==((df['unixTime'].min()//ROUND)+i-1)]\n",
    "        df_old_acc=df_old_all[df_old_all['type']=='Accelerometer']\n",
    "        df_old_gyro=df_old_all[df_old_all['type']=='Gyroscope']\n",
    "        if len(df_acc)==0 or len(df_gyro)==0:\n",
    "            index+=1\n",
    "            continue\n",
    "\n",
    "        old_acc_x_ave, old_acc_y_ave, old_acc_z_ave, old_acc_range, old_acc_x_std, old_acc_y_std, old_acc_z_std, old_gyro_range, \\\n",
    "        old_gyro_x_ave, old_gyro_y_ave, old_gyro_z_ave, old_gyro_x_std, old_gyro_y_std, old_gyro_z_std, old_acc_std, old_gyro_std, \\\n",
    "        old_acc_skewness, old_gyro_skewness, old_acc_kurtosis, old_gyro_kurtosis, old_acc_energy, old_gyro_energy, old_acc_ave, old_gyro_ave= \\\n",
    "        get_Ave_value(df_old_acc['x']), get_Ave_value(df_old_acc['y']), get_Ave_value(df_old_acc['z']), get_Range(df_old_acc), \\\n",
    "        get_Std_value(df_old_acc['x']), get_Std_value(df_old_acc['y']), get_Std_value(df_old_acc['z']), get_Range(df_old_gyro), \\\n",
    "        get_Ave_value(df_old_gyro['x']), get_Ave_value(df_old_gyro['y']), get_Ave_value(df_old_gyro['z']), get_Std_value(df_old_gyro['x']), \\\n",
    "        get_Std_value(df_old_gyro['y']), get_Std_value(df_old_gyro['z']), get_Std(df_old_acc), get_Std(df_old_gyro), get_Skewness(df_old_acc), \\\n",
    "        get_Skewness(df_old_gyro), get_Kurtosis(df_old_acc), get_Kurtosis(df_old_gyro), get_Energy(df_old_acc), get_Energy(df_old_gyro), get_ave(df_old_acc), get_ave(df_old_gyro)\n",
    "\n",
    "        acc_x_ave, acc_y_ave, acc_z_ave, acc_range, acc_x_std, acc_y_std, acc_z_std, gyro_range, \\\n",
    "        gyro_x_ave, gyro_y_ave, gyro_z_ave, gyro_x_std, gyro_y_std, gyro_z_std, acc_std, gyro_std, \\\n",
    "        acc_skewness, gyro_skewness, acc_kurtosis, gyro_kurtosis, acc_energy, gyro_energy, acc_ave, gyro_ave= \\\n",
    "        get_Ave_value(df_acc['x']), get_Ave_value(df_acc['y']), get_Ave_value(df_acc['z']), get_Range(df_acc), \\\n",
    "        get_Std_value(df_acc['x']), get_Std_value(df_acc['y']), get_Std_value(df_acc['z']), get_Range(df_gyro), \\\n",
    "        get_Ave_value(df_gyro['x']), get_Ave_value(df_gyro['y']), get_Ave_value(df_gyro['z']), get_Std_value(df_gyro['x']), \\\n",
    "        get_Std_value(df_gyro['y']), get_Std_value(df_gyro['z']), get_Std(df_acc), get_Std(df_gyro), get_Skewness(df_acc), \\\n",
    "        get_Skewness(df_gyro), get_Kurtosis(df_acc), get_Kurtosis(df_gyro), get_Energy(df_acc), get_Energy(df_gyro), get_ave(df_acc), get_ave(df_gyro)\n",
    "\n",
    "        new_df=new_df.append({'label':label[1][index], 'user':file_name, 'acc_x_ave':acc_x_ave, 'acc_y_ave':acc_y_ave, 'acc_z_ave':acc_z_ave, \n",
    "                              'acc_range':acc_range, 'acc_x_std':acc_x_std, 'acc_y_std':acc_y_std, 'acc_z_std':acc_z_std, 'gyro_range':gyro_range, \n",
    "                              'gyro_x_ave':gyro_x_ave, 'gyro_y_ave':gyro_y_ave, 'gyro_z_ave':gyro_z_ave, 'gyro_x_std':gyro_x_std, \n",
    "                              'gyro_y_std':gyro_y_std, 'gyro_z_std':gyro_z_std,'acc_std':acc_std, 'gyro_std':gyro_std, 'acc_skewness':acc_skewness, \n",
    "                              'gyro_skewness':gyro_skewness, 'acc_kurtosis':acc_kurtosis, 'gyro_kurtosis':gyro_kurtosis, 'acc_energy':acc_energy, \n",
    "                              'gyro_energy':gyro_energy, 'acc_ave':acc_ave, 'gyro_ave':gyro_ave, \n",
    "                              'dif_acc_x_ave':(acc_x_ave-old_acc_x_ave), 'dif_acc_y_ave':(acc_y_ave-old_acc_y_ave), 'dif_acc_z_ave':(acc_z_ave-old_acc_z_ave), \n",
    "                              'dif_acc_range':(acc_range-old_acc_range), 'dif_acc_x_std':(acc_x_std-old_acc_x_std), \n",
    "                              'dif_acc_y_std':(acc_y_std-old_acc_y_std), 'dif_acc_z_std':(acc_z_std-old_acc_z_std), \n",
    "                              'dif_gyro_range':(gyro_range-old_gyro_range), 'dif_gyro_x_ave':(gyro_x_ave-old_gyro_x_ave), 'dif_gyro_y_ave':(gyro_y_ave-old_gyro_y_ave), \n",
    "                              'dif_gyro_z_ave':(gyro_z_ave-old_gyro_z_ave), 'dif_gyro_x_std':(gyro_x_std-old_gyro_x_std), \n",
    "                              'dif_gyro_y_std':(gyro_y_std-old_gyro_y_std), 'dif_gyro_z_std':(gyro_z_std-old_gyro_z_std), 'dif_acc_std':(acc_std-old_acc_std), \n",
    "                              'dif_gyro_std':(gyro_std-old_gyro_std), 'dif_acc_skewness':(acc_skewness-old_acc_skewness), \n",
    "                              'dif_gyro_skewness':(gyro_skewness-old_gyro_skewness), 'dif_acc_kurtosis':(acc_kurtosis-old_acc_kurtosis), \n",
    "                              'dif_gyro_kurtosis':(gyro_kurtosis-old_gyro_kurtosis), 'dif_acc_energy':(acc_energy-old_acc_energy), \n",
    "                              'dif_gyro_energy':(gyro_energy-old_gyro_energy), 'dif_acc_ave':(acc_ave-old_acc_ave), 'dif_gyro_ave':(gyro_ave-old_gyro_ave)}, \n",
    "                         ignore_index=True)\n",
    "\n",
    "        index+=1\n",
    "    new_df.to_csv(\"../../etc/dif_features/{}.csv\".format(file_name), index=False)\n",
    "    print('{}DONE!!!!'.format(file_name))"
   ]
  },
  {
   "cell_type": "markdown",
   "metadata": {},
   "source": [
    "# タイムウインドウ重複"
   ]
  },
  {
   "cell_type": "code",
   "execution_count": null,
   "metadata": {
    "scrolled": true
   },
   "outputs": [],
   "source": [
    "glob.glob('../../etc/label/*.csv')[66]"
   ]
  },
  {
   "cell_type": "code",
   "execution_count": 5,
   "metadata": {},
   "outputs": [
    {
     "name": "stderr",
     "output_type": "stream",
     "text": [
      "\n",
      "  0%|          | 0/81 [00:00<?, ?it/s]\u001b[A"
     ]
    },
    {
     "name": "stdout",
     "output_type": "stream",
     "text": [
      "6NM9tsubouchiLOAD DONE!!!!\n"
     ]
    },
    {
     "name": "stderr",
     "output_type": "stream",
     "text": [
      "\n",
      "  1%|          | 1/81 [01:30<2:01:07, 90.85s/it]\u001b[A"
     ]
    },
    {
     "name": "stdout",
     "output_type": "stream",
     "text": [
      "6NM9tsubouchiDONE!!!!\n",
      "6NM6yahooLOAD DONE!!!!\n"
     ]
    },
    {
     "name": "stderr",
     "output_type": "stream",
     "text": [
      "\n",
      "  2%|▏         | 2/81 [02:21<1:43:42, 78.76s/it]\u001b[A"
     ]
    },
    {
     "name": "stdout",
     "output_type": "stream",
     "text": [
      "6NM6yahooDONE!!!!\n",
      "7NM3miyazakiLOAD DONE!!!!\n"
     ]
    },
    {
     "name": "stderr",
     "output_type": "stream",
     "text": [
      "\n",
      "  4%|▎         | 3/81 [02:54<1:24:38, 65.12s/it]\u001b[A"
     ]
    },
    {
     "name": "stdout",
     "output_type": "stream",
     "text": [
      "7NM3miyazakiDONE!!!!\n",
      "5NM4tsukkyLOAD DONE!!!!\n"
     ]
    },
    {
     "name": "stderr",
     "output_type": "stream",
     "text": [
      "\n",
      "  5%|▍         | 4/81 [03:34<1:13:53, 57.57s/it]\u001b[A"
     ]
    },
    {
     "name": "stdout",
     "output_type": "stream",
     "text": [
      "5NM4tsukkyDONE!!!!\n",
      "6NM7kobeGLOAD DONE!!!!\n"
     ]
    },
    {
     "name": "stderr",
     "output_type": "stream",
     "text": [
      "\n",
      "  6%|▌         | 5/81 [05:28<1:34:12, 74.37s/it]\u001b[A"
     ]
    },
    {
     "name": "stdout",
     "output_type": "stream",
     "text": [
      "6NM7kobeGDONE!!!!\n",
      "6NM1yossiLOAD DONE!!!!\n"
     ]
    },
    {
     "name": "stderr",
     "output_type": "stream",
     "text": [
      "\n",
      "  7%|▋         | 6/81 [06:22<1:25:36, 68.49s/it]\u001b[A"
     ]
    },
    {
     "name": "stdout",
     "output_type": "stream",
     "text": [
      "6NM1yossiDONE!!!!\n",
      "7NM5yakkunLOAD DONE!!!!\n"
     ]
    },
    {
     "name": "stderr",
     "output_type": "stream",
     "text": [
      "\n",
      "  9%|▊         | 7/81 [06:59<1:12:32, 58.82s/it]\u001b[A"
     ]
    },
    {
     "name": "stdout",
     "output_type": "stream",
     "text": [
      "7NM5yakkunDONE!!!!\n",
      "5NM8shishamoLOAD DONE!!!!\n"
     ]
    },
    {
     "name": "stderr",
     "output_type": "stream",
     "text": [
      "\n",
      " 10%|▉         | 8/81 [08:13<1:17:10, 63.43s/it]\u001b[A"
     ]
    },
    {
     "name": "stdout",
     "output_type": "stream",
     "text": [
      "5NM8shishamoDONE!!!!\n",
      "7NM2toshikiLOAD DONE!!!!\n"
     ]
    },
    {
     "name": "stderr",
     "output_type": "stream",
     "text": [
      "\n",
      " 11%|█         | 9/81 [08:58<1:09:27, 57.89s/it]\u001b[A"
     ]
    },
    {
     "name": "stdout",
     "output_type": "stream",
     "text": [
      "7NM2toshikiDONE!!!!\n",
      "5NM8kanLOAD DONE!!!!\n"
     ]
    },
    {
     "name": "stderr",
     "output_type": "stream",
     "text": [
      "\n",
      " 12%|█▏        | 10/81 [09:43<1:03:50, 53.95s/it]\u001b[A"
     ]
    },
    {
     "name": "stdout",
     "output_type": "stream",
     "text": [
      "5NM8kanDONE!!!!\n",
      "6NM6kobeHLOAD DONE!!!!\n"
     ]
    },
    {
     "name": "stderr",
     "output_type": "stream",
     "text": [
      "\n",
      " 14%|█▎        | 11/81 [10:12<54:27, 46.67s/it]  \u001b[A"
     ]
    },
    {
     "name": "stdout",
     "output_type": "stream",
     "text": [
      "6NM6kobeHDONE!!!!\n",
      "6NM6nishioLOAD DONE!!!!\n"
     ]
    },
    {
     "name": "stderr",
     "output_type": "stream",
     "text": [
      "\n",
      " 15%|█▍        | 12/81 [10:47<49:29, 43.04s/it]\u001b[A"
     ]
    },
    {
     "name": "stdout",
     "output_type": "stream",
     "text": [
      "6NM6nishioDONE!!!!\n",
      "7NM3zimotoELOAD DONE!!!!\n"
     ]
    },
    {
     "name": "stderr",
     "output_type": "stream",
     "text": [
      "\n",
      " 16%|█▌        | 13/81 [12:28<1:08:25, 60.37s/it]\u001b[A"
     ]
    },
    {
     "name": "stdout",
     "output_type": "stream",
     "text": [
      "7NM3zimotoEDONE!!!!\n",
      "6NM7tamuchinLOAD DONE!!!!\n"
     ]
    },
    {
     "name": "stderr",
     "output_type": "stream",
     "text": [
      "\n",
      " 17%|█▋        | 14/81 [13:04<59:14, 53.05s/it]  \u001b[A"
     ]
    },
    {
     "name": "stdout",
     "output_type": "stream",
     "text": [
      "6NM7tamuchinDONE!!!!\n",
      "6NM3kobeCLOAD DONE!!!!\n"
     ]
    },
    {
     "name": "stderr",
     "output_type": "stream",
     "text": [
      "\n",
      " 19%|█▊        | 15/81 [14:01<59:46, 54.35s/it]\u001b[A"
     ]
    },
    {
     "name": "stdout",
     "output_type": "stream",
     "text": [
      "6NM3kobeCDONE!!!!\n",
      "6NM4kobeILOAD DONE!!!!\n"
     ]
    },
    {
     "name": "stderr",
     "output_type": "stream",
     "text": [
      "\n",
      " 20%|█▉        | 16/81 [14:36<52:27, 48.43s/it]\u001b[A"
     ]
    },
    {
     "name": "stdout",
     "output_type": "stream",
     "text": [
      "6NM4kobeIDONE!!!!\n",
      "6NM5kobeDLOAD DONE!!!!\n"
     ]
    },
    {
     "name": "stderr",
     "output_type": "stream",
     "text": [
      "\n",
      " 21%|██        | 17/81 [15:17<49:22, 46.28s/it]\u001b[A"
     ]
    },
    {
     "name": "stdout",
     "output_type": "stream",
     "text": [
      "6NM5kobeDDONE!!!!\n",
      "7NM4zimotoDLOAD DONE!!!!\n"
     ]
    },
    {
     "name": "stderr",
     "output_type": "stream",
     "text": [
      "\n",
      " 22%|██▏       | 18/81 [15:48<43:46, 41.70s/it]\u001b[A"
     ]
    },
    {
     "name": "stdout",
     "output_type": "stream",
     "text": [
      "7NM4zimotoDDONE!!!!\n",
      "6NM5kobeFLOAD DONE!!!!\n"
     ]
    },
    {
     "name": "stderr",
     "output_type": "stream",
     "text": [
      "\n",
      " 23%|██▎       | 19/81 [16:52<50:00, 48.40s/it]\u001b[A"
     ]
    },
    {
     "name": "stdout",
     "output_type": "stream",
     "text": [
      "6NM5kobeFDONE!!!!\n",
      "7NM7yakkunLOAD DONE!!!!\n"
     ]
    },
    {
     "name": "stderr",
     "output_type": "stream",
     "text": [
      "\n",
      " 25%|██▍       | 20/81 [17:25<44:22, 43.65s/it]\u001b[A"
     ]
    },
    {
     "name": "stdout",
     "output_type": "stream",
     "text": [
      "7NM7yakkunDONE!!!!\n",
      "7NM9zimotoBLOAD DONE!!!!\n"
     ]
    },
    {
     "name": "stderr",
     "output_type": "stream",
     "text": [
      "\n",
      " 26%|██▌       | 21/81 [20:11<1:20:33, 80.56s/it]\u001b[A"
     ]
    },
    {
     "name": "stdout",
     "output_type": "stream",
     "text": [
      "7NM9zimotoBDONE!!!!\n",
      "6NM5yahooLOAD DONE!!!!\n"
     ]
    },
    {
     "name": "stderr",
     "output_type": "stream",
     "text": [
      "\n",
      " 27%|██▋       | 22/81 [20:54<1:08:12, 69.37s/it]\u001b[A"
     ]
    },
    {
     "name": "stdout",
     "output_type": "stream",
     "text": [
      "6NM5yahooDONE!!!!\n",
      "6NM2kobeBLOAD DONE!!!!\n"
     ]
    },
    {
     "name": "stderr",
     "output_type": "stream",
     "text": [
      "\n",
      " 28%|██▊       | 23/81 [21:49<1:02:51, 65.03s/it]\u001b[A"
     ]
    },
    {
     "name": "stdout",
     "output_type": "stream",
     "text": [
      "6NM2kobeBDONE!!!!\n",
      "7NM5zimotoALOAD DONE!!!!\n"
     ]
    },
    {
     "name": "stderr",
     "output_type": "stream",
     "text": [
      "\n",
      " 30%|██▉       | 24/81 [22:19<51:38, 54.35s/it]  \u001b[A"
     ]
    },
    {
     "name": "stdout",
     "output_type": "stream",
     "text": [
      "7NM5zimotoADONE!!!!\n",
      "6NM6tamuchinLOAD DONE!!!!\n"
     ]
    },
    {
     "name": "stderr",
     "output_type": "stream",
     "text": [
      "\n",
      " 31%|███       | 25/81 [22:49<43:51, 46.99s/it]\u001b[A"
     ]
    },
    {
     "name": "stdout",
     "output_type": "stream",
     "text": [
      "6NM6tamuchinDONE!!!!\n",
      "7NM8zimotoCLOAD DONE!!!!\n"
     ]
    },
    {
     "name": "stderr",
     "output_type": "stream",
     "text": [
      "\n",
      " 32%|███▏      | 26/81 [24:31<58:25, 63.74s/it]\u001b[A"
     ]
    },
    {
     "name": "stdout",
     "output_type": "stream",
     "text": [
      "7NM8zimotoCDONE!!!!\n",
      "5NMEXTRAharashoLOAD DONE!!!!\n"
     ]
    },
    {
     "name": "stderr",
     "output_type": "stream",
     "text": [
      "\n",
      " 33%|███▎      | 27/81 [25:24<54:15, 60.29s/it]\u001b[A"
     ]
    },
    {
     "name": "stdout",
     "output_type": "stream",
     "text": [
      "5NMEXTRAharashoDONE!!!!\n",
      "6NM6kobeALOAD DONE!!!!\n"
     ]
    },
    {
     "name": "stderr",
     "output_type": "stream",
     "text": [
      "\n",
      " 35%|███▍      | 28/81 [25:43<42:19, 47.91s/it]\u001b[A"
     ]
    },
    {
     "name": "stdout",
     "output_type": "stream",
     "text": [
      "6NM6kobeADONE!!!!\n",
      "7NM7zimotoDLOAD DONE!!!!\n"
     ]
    },
    {
     "name": "stderr",
     "output_type": "stream",
     "text": [
      "\n",
      " 36%|███▌      | 29/81 [26:41<44:10, 50.97s/it]\u001b[A"
     ]
    },
    {
     "name": "stdout",
     "output_type": "stream",
     "text": [
      "7NM7zimotoDDONE!!!!\n",
      "7NM6kohoLOAD DONE!!!!\n"
     ]
    },
    {
     "name": "stderr",
     "output_type": "stream",
     "text": [
      "\n",
      " 37%|███▋      | 30/81 [27:41<45:33, 53.59s/it]\u001b[A"
     ]
    },
    {
     "name": "stdout",
     "output_type": "stream",
     "text": [
      "7NM6kohoDONE!!!!\n",
      "7NM1kohoLOAD DONE!!!!\n"
     ]
    },
    {
     "name": "stderr",
     "output_type": "stream",
     "text": [
      "\n",
      " 38%|███▊      | 31/81 [28:34<44:39, 53.58s/it]\u001b[A"
     ]
    },
    {
     "name": "stdout",
     "output_type": "stream",
     "text": [
      "7NM1kohoDONE!!!!\n",
      "7NM6zimotoELOAD DONE!!!!\n"
     ]
    },
    {
     "name": "stderr",
     "output_type": "stream",
     "text": [
      "\n",
      " 40%|███▉      | 32/81 [29:34<45:23, 55.58s/it]\u001b[A"
     ]
    },
    {
     "name": "stdout",
     "output_type": "stream",
     "text": [
      "7NM6zimotoEDONE!!!!\n",
      "6NM9nishioLOAD DONE!!!!\n"
     ]
    },
    {
     "name": "stderr",
     "output_type": "stream",
     "text": [
      "\n",
      " 41%|████      | 33/81 [32:37<1:14:51, 93.58s/it]\u001b[A"
     ]
    },
    {
     "name": "stdout",
     "output_type": "stream",
     "text": [
      "6NM9nishioDONE!!!!\n",
      "5NM1shibatakuLOAD DONE!!!!\n"
     ]
    },
    {
     "name": "stderr",
     "output_type": "stream",
     "text": [
      "\n",
      " 42%|████▏     | 34/81 [33:20<1:01:24, 78.39s/it]\u001b[A"
     ]
    },
    {
     "name": "stdout",
     "output_type": "stream",
     "text": [
      "5NM1shibatakuDONE!!!!\n",
      "7NM1miyazakiLOAD DONE!!!!\n"
     ]
    },
    {
     "name": "stderr",
     "output_type": "stream",
     "text": [
      "\n",
      " 43%|████▎     | 35/81 [34:22<56:27, 73.65s/it]  \u001b[A"
     ]
    },
    {
     "name": "stdout",
     "output_type": "stream",
     "text": [
      "7NM1miyazakiDONE!!!!\n",
      "6NM9senkitaLOAD DONE!!!!\n"
     ]
    },
    {
     "name": "stderr",
     "output_type": "stream",
     "text": [
      "\n",
      " 44%|████▍     | 36/81 [36:24<1:06:06, 88.15s/it]\u001b[A"
     ]
    },
    {
     "name": "stdout",
     "output_type": "stream",
     "text": [
      "6NM9senkitaDONE!!!!\n",
      "7NM5zimotoCLOAD DONE!!!!\n"
     ]
    },
    {
     "name": "stderr",
     "output_type": "stream",
     "text": [
      "\n",
      " 46%|████▌     | 37/81 [37:47<1:03:35, 86.71s/it]\u001b[A"
     ]
    },
    {
     "name": "stdout",
     "output_type": "stream",
     "text": [
      "7NM5zimotoCDONE!!!!\n",
      "6NM2tamuchinLOAD DONE!!!!\n"
     ]
    },
    {
     "name": "stderr",
     "output_type": "stream",
     "text": [
      "\n",
      " 47%|████▋     | 38/81 [38:47<56:19, 78.60s/it]  \u001b[A"
     ]
    },
    {
     "name": "stdout",
     "output_type": "stream",
     "text": [
      "6NM2tamuchinDONE!!!!\n",
      "5NM4tigerLOAD DONE!!!!\n"
     ]
    },
    {
     "name": "stderr",
     "output_type": "stream",
     "text": [
      "\n",
      " 48%|████▊     | 39/81 [39:28<47:10, 67.40s/it]\u001b[A"
     ]
    },
    {
     "name": "stdout",
     "output_type": "stream",
     "text": [
      "5NM4tigerDONE!!!!\n",
      "6NM5tamuchinLOAD DONE!!!!\n"
     ]
    },
    {
     "name": "stderr",
     "output_type": "stream",
     "text": [
      "\n",
      " 49%|████▉     | 40/81 [39:58<38:21, 56.13s/it]\u001b[A"
     ]
    },
    {
     "name": "stdout",
     "output_type": "stream",
     "text": [
      "6NM5tamuchinDONE!!!!\n",
      "7NM2zimotoDLOAD DONE!!!!\n"
     ]
    },
    {
     "name": "stderr",
     "output_type": "stream",
     "text": [
      "\n",
      " 51%|█████     | 41/81 [41:12<41:00, 61.51s/it]\u001b[A"
     ]
    },
    {
     "name": "stdout",
     "output_type": "stream",
     "text": [
      "7NM2zimotoDDONE!!!!\n",
      "7NM2miyazakiLOAD DONE!!!!\n"
     ]
    },
    {
     "name": "stderr",
     "output_type": "stream",
     "text": [
      "\n",
      " 52%|█████▏    | 42/81 [42:21<41:27, 63.79s/it]\u001b[A"
     ]
    },
    {
     "name": "stdout",
     "output_type": "stream",
     "text": [
      "7NM2miyazakiDONE!!!!\n",
      "6NM4kobeDLOAD DONE!!!!\n"
     ]
    },
    {
     "name": "stderr",
     "output_type": "stream",
     "text": [
      "\n",
      " 53%|█████▎    | 43/81 [42:47<33:09, 52.36s/it]\u001b[A"
     ]
    },
    {
     "name": "stdout",
     "output_type": "stream",
     "text": [
      "6NM4kobeDDONE!!!!\n",
      "5NM4yahooLOAD DONE!!!!\n"
     ]
    },
    {
     "name": "stderr",
     "output_type": "stream",
     "text": [
      "\n",
      " 54%|█████▍    | 44/81 [43:21<28:52, 46.83s/it]\u001b[A"
     ]
    },
    {
     "name": "stdout",
     "output_type": "stream",
     "text": [
      "5NM4yahooDONE!!!!\n",
      "7NM7zimotoELOAD DONE!!!!\n"
     ]
    },
    {
     "name": "stderr",
     "output_type": "stream",
     "text": [
      "\n",
      " 56%|█████▌    | 45/81 [45:09<39:02, 65.07s/it]\u001b[A"
     ]
    },
    {
     "name": "stdout",
     "output_type": "stream",
     "text": [
      "7NM7zimotoEDONE!!!!\n",
      "6NM8kobeILOAD DONE!!!!\n"
     ]
    },
    {
     "name": "stderr",
     "output_type": "stream",
     "text": [
      "\n",
      " 57%|█████▋    | 46/81 [46:11<37:26, 64.17s/it]\u001b[A"
     ]
    },
    {
     "name": "stdout",
     "output_type": "stream",
     "text": [
      "6NM8kobeIDONE!!!!\n",
      "7NM9yakkunLOAD DONE!!!!\n"
     ]
    },
    {
     "name": "stderr",
     "output_type": "stream",
     "text": [
      "\n",
      " 58%|█████▊    | 47/81 [48:27<48:40, 85.91s/it]\u001b[A"
     ]
    },
    {
     "name": "stdout",
     "output_type": "stream",
     "text": [
      "7NM9yakkunDONE!!!!\n",
      "7NM9miyazakiLOAD DONE!!!!\n"
     ]
    },
    {
     "name": "stderr",
     "output_type": "stream",
     "text": [
      "\n",
      " 59%|█████▉    | 48/81 [49:55<47:34, 86.51s/it]\u001b[A"
     ]
    },
    {
     "name": "stdout",
     "output_type": "stream",
     "text": [
      "7NM9miyazakiDONE!!!!\n",
      "6NM2kobeGLOAD DONE!!!!\n"
     ]
    },
    {
     "name": "stderr",
     "output_type": "stream",
     "text": [
      "\n",
      " 60%|██████    | 49/81 [51:24<46:27, 87.10s/it]\u001b[A"
     ]
    },
    {
     "name": "stdout",
     "output_type": "stream",
     "text": [
      "6NM2kobeGDONE!!!!\n",
      "5NM2tigerLOAD DONE!!!!\n"
     ]
    },
    {
     "name": "stderr",
     "output_type": "stream",
     "text": [
      "\n",
      " 62%|██████▏   | 50/81 [52:05<37:51, 73.28s/it]\u001b[A"
     ]
    },
    {
     "name": "stdout",
     "output_type": "stream",
     "text": [
      "5NM2tigerDONE!!!!\n",
      "5NM9yahooLOAD DONE!!!!\n"
     ]
    },
    {
     "name": "stderr",
     "output_type": "stream",
     "text": [
      "\n",
      " 63%|██████▎   | 51/81 [54:02<43:11, 86.39s/it]\u001b[A"
     ]
    },
    {
     "name": "stdout",
     "output_type": "stream",
     "text": [
      "5NM9yahooDONE!!!!\n",
      "6NM3tamuchinLOAD DONE!!!!\n"
     ]
    },
    {
     "name": "stderr",
     "output_type": "stream",
     "text": [
      "\n",
      " 64%|██████▍   | 52/81 [54:54<36:50, 76.23s/it]\u001b[A"
     ]
    },
    {
     "name": "stdout",
     "output_type": "stream",
     "text": [
      "6NM3tamuchinDONE!!!!\n",
      "6NM9tamuchinLOAD DONE!!!!\n"
     ]
    },
    {
     "name": "stderr",
     "output_type": "stream",
     "text": [
      "\n",
      " 65%|██████▌   | 53/81 [56:34<38:49, 83.20s/it]\u001b[A"
     ]
    },
    {
     "name": "stdout",
     "output_type": "stream",
     "text": [
      "6NM9tamuchinDONE!!!!\n",
      "6NM3kobeHLOAD DONE!!!!\n"
     ]
    },
    {
     "name": "stderr",
     "output_type": "stream",
     "text": [
      "\n",
      " 67%|██████▋   | 54/81 [57:21<32:32, 72.32s/it]\u001b[A"
     ]
    },
    {
     "name": "stdout",
     "output_type": "stream",
     "text": [
      "6NM3kobeHDONE!!!!\n",
      "6NM8tsubouchiLOAD DONE!!!!\n"
     ]
    },
    {
     "name": "stderr",
     "output_type": "stream",
     "text": [
      "\n",
      " 68%|██████▊   | 55/81 [58:11<28:25, 65.58s/it]\u001b[A"
     ]
    },
    {
     "name": "stdout",
     "output_type": "stream",
     "text": [
      "6NM8tsubouchiDONE!!!!\n",
      "7NM1zimotoALOAD DONE!!!!\n"
     ]
    },
    {
     "name": "stderr",
     "output_type": "stream",
     "text": [
      "\n",
      " 69%|██████▉   | 56/81 [59:14<27:05, 65.02s/it]\u001b[A"
     ]
    },
    {
     "name": "stdout",
     "output_type": "stream",
     "text": [
      "7NM1zimotoADONE!!!!\n",
      "6NM4tsubouchiLOAD DONE!!!!\n"
     ]
    },
    {
     "name": "stderr",
     "output_type": "stream",
     "text": [
      "\n",
      " 70%|███████   | 57/81 [59:55<23:02, 57.61s/it]\u001b[A"
     ]
    },
    {
     "name": "stdout",
     "output_type": "stream",
     "text": [
      "6NM4tsubouchiDONE!!!!\n",
      "7NM6zimotoBLOAD DONE!!!!\n"
     ]
    },
    {
     "name": "stderr",
     "output_type": "stream",
     "text": [
      "\n",
      " 72%|███████▏  | 58/81 [1:00:43<20:59, 54.75s/it]\u001b[A"
     ]
    },
    {
     "name": "stdout",
     "output_type": "stream",
     "text": [
      "7NM6zimotoBDONE!!!!\n",
      "7NM4zimotoELOAD DONE!!!!\n"
     ]
    },
    {
     "name": "stderr",
     "output_type": "stream",
     "text": [
      "\n",
      " 73%|███████▎  | 59/81 [1:01:22<18:23, 50.17s/it]\u001b[A"
     ]
    },
    {
     "name": "stdout",
     "output_type": "stream",
     "text": [
      "7NM4zimotoEDONE!!!!\n",
      "7NM3zimotoALOAD DONE!!!!\n"
     ]
    },
    {
     "name": "stderr",
     "output_type": "stream",
     "text": [
      "\n",
      " 74%|███████▍  | 60/81 [1:02:03<16:37, 47.49s/it]\u001b[A"
     ]
    },
    {
     "name": "stdout",
     "output_type": "stream",
     "text": [
      "7NM3zimotoADONE!!!!\n",
      "6NM8yahooLOAD DONE!!!!\n"
     ]
    },
    {
     "name": "stderr",
     "output_type": "stream",
     "text": [
      "\n",
      " 75%|███████▌  | 61/81 [1:02:51<15:52, 47.63s/it]\u001b[A"
     ]
    },
    {
     "name": "stdout",
     "output_type": "stream",
     "text": [
      "6NM8yahooDONE!!!!\n",
      "6NM1kobeALOAD DONE!!!!\n"
     ]
    },
    {
     "name": "stderr",
     "output_type": "stream",
     "text": [
      "\n",
      " 77%|███████▋  | 62/81 [1:03:35<14:42, 46.47s/it]\u001b[A"
     ]
    },
    {
     "name": "stdout",
     "output_type": "stream",
     "text": [
      "6NM1kobeADONE!!!!\n",
      "5NM4arthurLOAD DONE!!!!\n"
     ]
    },
    {
     "name": "stderr",
     "output_type": "stream",
     "text": [
      "\n",
      " 78%|███████▊  | 63/81 [1:04:20<13:48, 46.05s/it]\u001b[A"
     ]
    },
    {
     "name": "stdout",
     "output_type": "stream",
     "text": [
      "5NM4arthurDONE!!!!\n",
      "7NM8zimotoBLOAD DONE!!!!\n"
     ]
    },
    {
     "name": "stderr",
     "output_type": "stream",
     "text": [
      "\n",
      " 79%|███████▉  | 64/81 [1:05:46<16:25, 57.95s/it]\u001b[A"
     ]
    },
    {
     "name": "stdout",
     "output_type": "stream",
     "text": [
      "7NM8zimotoBDONE!!!!\n",
      "7NM5miyazakiLOAD DONE!!!!\n"
     ]
    },
    {
     "name": "stderr",
     "output_type": "stream",
     "text": [
      "\n",
      " 80%|████████  | 65/81 [1:06:17<13:16, 49.77s/it]\u001b[A"
     ]
    },
    {
     "name": "stdout",
     "output_type": "stream",
     "text": [
      "7NM5miyazakiDONE!!!!\n",
      "6NM8kobeCLOAD DONE!!!!\n"
     ]
    },
    {
     "name": "stderr",
     "output_type": "stream",
     "text": [
      "\n",
      " 81%|████████▏ | 66/81 [1:07:01<12:04, 48.30s/it]\u001b[A"
     ]
    },
    {
     "name": "stdout",
     "output_type": "stream",
     "text": [
      "6NM8kobeCDONE!!!!\n",
      "5NM7shibatakuLOAD DONE!!!!\n"
     ]
    },
    {
     "name": "stderr",
     "output_type": "stream",
     "text": [
      "\n",
      " 83%|████████▎ | 67/81 [1:09:30<18:15, 78.25s/it]\u001b[A"
     ]
    },
    {
     "name": "stdout",
     "output_type": "stream",
     "text": [
      "5NM7shibatakuDONE!!!!\n",
      "7NM2zimotoCLOAD DONE!!!!\n"
     ]
    },
    {
     "name": "stderr",
     "output_type": "stream",
     "text": [
      "\n",
      " 84%|████████▍ | 68/81 [1:11:16<18:46, 86.67s/it]\u001b[A"
     ]
    },
    {
     "name": "stdout",
     "output_type": "stream",
     "text": [
      "7NM2zimotoCDONE!!!!\n",
      "7NM2zimotoBLOAD DONE!!!!\n"
     ]
    },
    {
     "name": "stderr",
     "output_type": "stream",
     "text": [
      "\n",
      " 85%|████████▌ | 69/81 [1:12:30<16:35, 82.98s/it]\u001b[A"
     ]
    },
    {
     "name": "stdout",
     "output_type": "stream",
     "text": [
      "7NM2zimotoBDONE!!!!\n",
      "7NM5toshikiLOAD DONE!!!!\n"
     ]
    },
    {
     "name": "stderr",
     "output_type": "stream",
     "text": [
      "\n",
      " 86%|████████▋ | 70/81 [1:13:10<12:51, 70.10s/it]\u001b[A"
     ]
    },
    {
     "name": "stdout",
     "output_type": "stream",
     "text": [
      "7NM5toshikiDONE!!!!\n",
      "7NM4miyazakiLOAD DONE!!!!\n"
     ]
    },
    {
     "name": "stderr",
     "output_type": "stream",
     "text": [
      "\n",
      " 88%|████████▊ | 71/81 [1:14:06<10:59, 65.92s/it]\u001b[A"
     ]
    },
    {
     "name": "stdout",
     "output_type": "stream",
     "text": [
      "7NM4miyazakiDONE!!!!\n",
      "7NM7miyazakiLOAD DONE!!!!\n"
     ]
    },
    {
     "name": "stderr",
     "output_type": "stream",
     "text": [
      "\n",
      " 89%|████████▉ | 72/81 [1:15:00<09:19, 62.14s/it]\u001b[A"
     ]
    },
    {
     "name": "stdout",
     "output_type": "stream",
     "text": [
      "7NM7miyazakiDONE!!!!\n",
      "6NM7kobeBLOAD DONE!!!!\n"
     ]
    },
    {
     "name": "stderr",
     "output_type": "stream",
     "text": [
      "\n",
      " 90%|█████████ | 73/81 [1:16:27<09:16, 69.55s/it]\u001b[A"
     ]
    },
    {
     "name": "stdout",
     "output_type": "stream",
     "text": [
      "6NM7kobeBDONE!!!!\n",
      "7NM9zimotoALOAD DONE!!!!\n"
     ]
    },
    {
     "name": "stderr",
     "output_type": "stream",
     "text": [
      "\n",
      " 91%|█████████▏| 74/81 [1:19:03<11:09, 95.60s/it]\u001b[A"
     ]
    },
    {
     "name": "stdout",
     "output_type": "stream",
     "text": [
      "7NM9zimotoADONE!!!!\n",
      "6NM1senkitaLOAD DONE!!!!\n"
     ]
    },
    {
     "name": "stderr",
     "output_type": "stream",
     "text": [
      "\n",
      " 93%|█████████▎| 75/81 [1:19:40<07:47, 78.00s/it]\u001b[A"
     ]
    },
    {
     "name": "stdout",
     "output_type": "stream",
     "text": [
      "6NM1senkitaDONE!!!!\n",
      "6NM8tamuchinLOAD DONE!!!!\n"
     ]
    },
    {
     "name": "stderr",
     "output_type": "stream",
     "text": [
      "\n",
      " 94%|█████████▍| 76/81 [1:20:22<05:36, 67.25s/it]\u001b[A"
     ]
    },
    {
     "name": "stdout",
     "output_type": "stream",
     "text": [
      "6NM8tamuchinDONE!!!!\n",
      "7NM4zimotoBLOAD DONE!!!!\n"
     ]
    },
    {
     "name": "stderr",
     "output_type": "stream",
     "text": [
      "\n",
      " 95%|█████████▌| 77/81 [1:21:00<03:53, 58.44s/it]\u001b[A"
     ]
    },
    {
     "name": "stdout",
     "output_type": "stream",
     "text": [
      "7NM4zimotoBDONE!!!!\n",
      "6NM5kobeELOAD DONE!!!!\n"
     ]
    },
    {
     "name": "stderr",
     "output_type": "stream",
     "text": [
      "\n",
      " 96%|█████████▋| 78/81 [1:22:08<03:03, 61.27s/it]\u001b[A"
     ]
    },
    {
     "name": "stdout",
     "output_type": "stream",
     "text": [
      "6NM5kobeEDONE!!!!\n",
      "6NM9ganponLOAD DONE!!!!\n"
     ]
    },
    {
     "name": "stderr",
     "output_type": "stream",
     "text": [
      "\n",
      " 98%|█████████▊| 79/81 [1:24:07<02:37, 78.55s/it]\u001b[A"
     ]
    },
    {
     "name": "stdout",
     "output_type": "stream",
     "text": [
      "6NM9ganponDONE!!!!\n",
      "7NM8miyazakiLOAD DONE!!!!\n"
     ]
    },
    {
     "name": "stderr",
     "output_type": "stream",
     "text": [
      "\n",
      " 99%|█████████▉| 80/81 [1:24:57<01:10, 70.14s/it]\u001b[A"
     ]
    },
    {
     "name": "stdout",
     "output_type": "stream",
     "text": [
      "7NM8miyazakiDONE!!!!\n",
      "6NM1kobeELOAD DONE!!!!\n"
     ]
    },
    {
     "name": "stderr",
     "output_type": "stream",
     "text": [
      "\n",
      "100%|██████████| 81/81 [1:26:10<00:00, 63.84s/it]\u001b[A"
     ]
    },
    {
     "name": "stdout",
     "output_type": "stream",
     "text": [
      "6NM1kobeEDONE!!!!\n"
     ]
    },
    {
     "name": "stderr",
     "output_type": "stream",
     "text": [
      "\n"
     ]
    }
   ],
   "source": [
    "for file in tqdm(glob.glob(\"../../etc/label/*.csv\")):\n",
    "    file_name=os.path.basename(file).split(\".csv\")[0]\n",
    "    all_df=pd.DataFrame()\n",
    "    label=pd.read_csv(\"../../etc/label/{}.csv\".format(file_name), header=None)\n",
    "    index=0\n",
    "            \n",
    "    df=pd.read_json(\"../../etc/no_header_pdr_raw_data/{}.json\".format(file_name), orient='records', lines=True)\n",
    "\n",
    "    print('{}LOAD DONE!!!!'.format(file_name))\n",
    "    \n",
    "    for i in range(label[0][0], label[0][len(label)-1]+1):\n",
    "        new_df=pd.DataFrame()\n",
    "        new_df=new_df.append({'label':label[1][index], 'user':file_name}, ignore_index=True)\n",
    "        for window in range(0, 4):\n",
    "            features=get_features(df, i, window)\n",
    "            if len(features)==0:\n",
    "                index+=1\n",
    "                continue\n",
    "            new_df=pd.concat([new_df, features], axis=1)\n",
    "        all_df=all_df.append(new_df)\n",
    "            \n",
    "        index+=1\n",
    "    all_df.to_csv(\"../../etc/windows_features/{}.csv\".format(file_name), index=False)\n",
    "    print('{}DONE!!!!'.format(file_name))"
   ]
  },
  {
   "cell_type": "code",
   "execution_count": null,
   "metadata": {},
   "outputs": [],
   "source": [
    "ROUND=1000\n",
    "\n",
    "for file in glob.glob(\"../../etc/label/*.csv\")[1:]:\n",
    "    file_name=os.path.basename(file).split(\".csv\")[0]\n",
    "    df=pd.DataFrame(columns=[\"x\", \"y\", \"z\", \"unixTime\", \"type\"])\n",
    "    new_df=pd.DataFrame(columns=[\"label\", \"acc_range\", \"acc_std\", \"acc_skewness\", \"acc_kurtosis\", \"acc_energy\"])\n",
    "    label=pd.read_csv(\"../../etc/label/{}.csv\".format(file_name), header=None)\n",
    "    index=0\n",
    "    is_first=True\n",
    "\n",
    "    with open(\"../../etc/pdr_raw_data/{}.json\".format(file_name), \"r\") as f:\n",
    "        lines=f.readlines()\n",
    "        for line in lines[1:]:\n",
    "            l=json.loads(line)\n",
    "            df=df.append({'x':l[\"x\"], 'y':l[\"y\"], 'z':l[\"z\"], 'unixTime':l[\"unixTime\"], 'type':l[\"type\"]}, ignore_index=True)\n",
    "\n",
    "    print('{}LOAD DONE!!!!'.format(file_name))\n",
    "    \n",
    "    for i in range(label[0][0], label[0][len(label)-1]+1):\n",
    "        if is_first==True:\n",
    "            df_acc=df[df['unixTime']//ROUND==((df['unixTime'].min()//ROUND)+i)]\n",
    "            df_acc=df_acc[df_acc['type']=='Accelerometer']\n",
    "            is_first=False\n",
    "        else:\n",
    "            df_acc=df[((df['unixTime']//ROUND)-1)==((df['unixTime'].min()//ROUND)+i-1)]\n",
    "            df_acc=df_acc.append(df[df['unixTime']//ROUND==((df['unixTime'].min()//ROUND)+i)], ignore_index=True)\n",
    "            df_acc=df_acc[df_acc['type']=='Accelerometer']\n",
    "        if len(df_acc)==0:\n",
    "            index+=1\n",
    "            continue\n",
    "        new_df=new_df.append({'label':label[1][index], 'acc_range':get_Range(df_acc), 'acc_std':get_Std(df_acc), \n",
    "                              'acc_skewness':get_Skewness(df_acc), 'acc_kurtosis':get_Kurtosis(df_acc), 'acc_energy':get_Energy(df_acc)}, \n",
    "                             ignore_index=True)\n",
    "        index+=1\n",
    "    new_df.to_csv(\"../../etc/timed_features/{}.csv\".format(file_name), index=False)\n",
    "    print('{}DONE!!!!'.format(file_name))"
   ]
  },
  {
   "cell_type": "markdown",
   "metadata": {},
   "source": [
    "# raw_dataへのラベル付け"
   ]
  },
  {
   "cell_type": "code",
   "execution_count": null,
   "metadata": {
    "scrolled": true
   },
   "outputs": [],
   "source": [
    "ROUND=1000\n",
    "\n",
    "for file in glob.glob(\"../../etc/label/*.csv\"):\n",
    "    file_name=os.path.basename(file).split(\".csv\")[0]\n",
    "    new_df=pd.DataFrame()\n",
    "    label=pd.read_csv(\"../../etc/label/{}.csv\".format(file_name), header=None)\n",
    "    index=0\n",
    "    \n",
    "    df=pd.read_json(\"../../etc/no_header_pdr_raw_data/{}.json\".format(file_name), orient='records', lines=True)\n",
    "\n",
    "    print('{}LOAD DONE!!!!'.format(file_name))\n",
    "            \n",
    "    for i in range(label[0][0], label[0][len(label)-1]+1):\n",
    "        df_acc=df[df['unixTime']//ROUND==((df['unixTime'].min()//ROUND)+i)]\n",
    "        # df_acc=df_acc[df_acc['type']=='Accelerometer']\n",
    "        if len(df_acc)==0:\n",
    "            index+=1\n",
    "            continue\n",
    "        df_acc['user']=file_name\n",
    "        df_acc['label']=label[1][index]\n",
    "        new_df=new_df.append(df_acc, ignore_index=True)\n",
    "        index+=1\n",
    "    new_df.to_csv(\"../../etc/labeled_pdr_raw_data/{}.csv\".format(file_name), index=False)\n",
    "    print('{}DONE!!!!'.format(file_name))"
   ]
  },
  {
   "cell_type": "markdown",
   "metadata": {},
   "source": [
    "# データ作るぞ"
   ]
  },
  {
   "cell_type": "code",
   "execution_count": null,
   "metadata": {},
   "outputs": [],
   "source": [
    "for file in glob.glob(\"../../etc/test/*.csv\"):\n",
    "    file_name=os.path.basename(file).split(\".csv\")[0]\n",
    "    df_features=pd.read_csv(\"../../etc/test/{}.csv\".format(file_name))\n",
    "    df_features['user']=file_name\n",
    "    df_features.to_csv(\"../../etc/test/{}.csv\".format(file_name), index=False)"
   ]
  },
  {
   "cell_type": "code",
   "execution_count": null,
   "metadata": {},
   "outputs": [],
   "source": [
    "# awk 'NR==1 || FNR!=1' *.csv"
   ]
  },
  {
   "cell_type": "markdown",
   "metadata": {},
   "source": [
    "# clipping"
   ]
  },
  {
   "cell_type": "code",
   "execution_count": 48,
   "metadata": {},
   "outputs": [
    {
     "name": "stdout",
     "output_type": "stream",
     "text": [
      "29360\n",
      "29360\n"
     ]
    }
   ],
   "source": [
    "df=pd.read_csv('../../etc/step_peak_num/features.csv')\n",
    "print(len(df))\n",
    "dfs=df.drop(['label', 'user'], axis=1)\n",
    "\n",
    "for column in dfs.columns:\n",
    "    p01=dfs[column].quantile(0.01)\n",
    "    p99=dfs[column].quantile(0.99)\n",
    "    dfs[column]=dfs[column].clip(p01, p99)\n",
    "print(len(dfs))\n",
    "# print(max(dfs['acc_ave']))"
   ]
  },
  {
   "cell_type": "code",
   "execution_count": 49,
   "metadata": {},
   "outputs": [],
   "source": [
    "dfs['user']=df['user']\n",
    "dfs['label']=df['label']"
   ]
  },
  {
   "cell_type": "code",
   "execution_count": 50,
   "metadata": {},
   "outputs": [],
   "source": [
    "df.to_csv('../../etc/step_peak_num/clipped_raw_features.csv', index=False)"
   ]
  },
  {
   "cell_type": "markdown",
   "metadata": {},
   "source": [
    "# 正規化"
   ]
  },
  {
   "cell_type": "code",
   "execution_count": 51,
   "metadata": {},
   "outputs": [],
   "source": [
    "import numpy as np\n",
    "from sklearn.preprocessing import StandardScaler\n",
    "from sklearn.preprocessing import MinMaxScaler\n",
    "import scipy.stats as stats"
   ]
  },
  {
   "cell_type": "code",
   "execution_count": 52,
   "metadata": {},
   "outputs": [],
   "source": [
    "df_features=pd.read_csv('../../etc/step_peak_num/clipped_raw_features.csv')"
   ]
  },
  {
   "cell_type": "code",
   "execution_count": 53,
   "metadata": {},
   "outputs": [],
   "source": [
    "df_features=df_features.dropna()"
   ]
  },
  {
   "cell_type": "code",
   "execution_count": 54,
   "metadata": {},
   "outputs": [],
   "source": [
    "columns=df_features.columns[:3]"
   ]
  },
  {
   "cell_type": "code",
   "execution_count": 55,
   "metadata": {},
   "outputs": [],
   "source": [
    "sc = StandardScaler()\n",
    "\n",
    "for column in columns:\n",
    "    # print(stats.zscore(df_features[column].values))\n",
    "    df_features[column]=stats.zscore(df_features[column].values)"
   ]
  },
  {
   "cell_type": "code",
   "execution_count": 56,
   "metadata": {},
   "outputs": [],
   "source": [
    "df_features.to_csv('../../etc/step_peak_num/clipped_std_features.csv', index=False)"
   ]
  },
  {
   "cell_type": "code",
   "execution_count": 28,
   "metadata": {},
   "outputs": [],
   "source": [
    "minmax = MinMaxScaler(feature_range=(-1, 1))\n",
    "mm_acc=minmax.fit_transform(x_train)"
   ]
  },
  {
   "cell_type": "code",
   "execution_count": null,
   "metadata": {},
   "outputs": [],
   "source": [
    "new_df=pd.DataFrame()\n",
    "\n",
    "for row in df_features.itertuples():\n",
    "    new_df=new_df.append({'label':row[14], 'user':row[15], 'acc_range':std_acc[row[0]][3], 'acc_std':std_acc[row[0]][5], \n",
    "                          'acc_skewness':std_acc[row[0]][4], 'acc_kurtosis':std_acc[row[0]][2], 'acc_energy':std_acc[row[0]][1], \n",
    "                          'gyro_range':std_acc[row[0]][9], 'gyro_std':std_acc[row[0]][11], 'gyro_skewness':std_acc[row[0]][10], \n",
    "                          'gyro_kurtosis':std_acc[row[0]][8], 'gyro_energy':std_acc[row[0]][7], 'acc_ave':std_acc[row[0]][0], \n",
    "                          'gyro_ave':std_acc[row[0]][6]},  \n",
    "                             ignore_index=True)"
   ]
  },
  {
   "cell_type": "code",
   "execution_count": null,
   "metadata": {},
   "outputs": [],
   "source": [
    "new_df.to_csv('../../etc/labeled_features/clipped_std_features.csv', index=False)"
   ]
  },
  {
   "cell_type": "markdown",
   "metadata": {},
   "source": [
    "# 時刻t-1のラベルを追加"
   ]
  },
  {
   "cell_type": "code",
   "execution_count": null,
   "metadata": {},
   "outputs": [],
   "source": [
    "df_features=pd.read_csv('../../etc/dif_features/clipped_std_features.csv')"
   ]
  },
  {
   "cell_type": "code",
   "execution_count": null,
   "metadata": {},
   "outputs": [],
   "source": [
    "labels=[]\n",
    "new_df=pd.DataFrame()\n",
    "\n",
    "for file in glob.glob(\"../../etc/label/*.csv\"):\n",
    "    labels=[]\n",
    "    file_name=os.path.basename(file).split(\".csv\")[0]\n",
    "    df=df_features[df_features['user']==file_name]\n",
    "    labels+=[list(df['label'])[0]]\n",
    "    labels+=list(df['label'])[:len(df)-1]\n",
    "    df['pre_label']=labels\n",
    "    new_df=new_df.append(df)"
   ]
  },
  {
   "cell_type": "code",
   "execution_count": null,
   "metadata": {},
   "outputs": [],
   "source": [
    "new_df.to_csv('../../etc/dif_features/clipped_std_prelabel_features.csv', index=False)"
   ]
  },
  {
   "cell_type": "markdown",
   "metadata": {},
   "source": [
    "# PCA"
   ]
  },
  {
   "cell_type": "code",
   "execution_count": null,
   "metadata": {},
   "outputs": [],
   "source": [
    "df=pd.read_csv('../../etc/windows_features/clipped_std_features.csv')"
   ]
  },
  {
   "cell_type": "code",
   "execution_count": null,
   "metadata": {},
   "outputs": [],
   "source": [
    "features=df.drop(['label', 'user'], axis=1)"
   ]
  },
  {
   "cell_type": "code",
   "execution_count": null,
   "metadata": {},
   "outputs": [],
   "source": [
    "pca.fit(features)\n",
    "features = pca.transform(features)"
   ]
  },
  {
   "cell_type": "code",
   "execution_count": null,
   "metadata": {},
   "outputs": [],
   "source": [
    "pd.DataFrame(features, columns=[\"PC{}\".format(x + 1) for x in range(len(df.drop(['label', 'user'], axis=1).columns))]).head()"
   ]
  },
  {
   "cell_type": "code",
   "execution_count": null,
   "metadata": {},
   "outputs": [],
   "source": [
    "pd.DataFrame(features, columns=[\"PC{}\".format(x + 1) for x in range(len(df.drop(['label', 'user'], axis=1).columns))]).head()"
   ]
  },
  {
   "cell_type": "code",
   "execution_count": null,
   "metadata": {},
   "outputs": [],
   "source": [
    "# 累積寄与率を図示する\n",
    "import matplotlib.pyplot as plt\n",
    "import matplotlib.ticker as ticker\n",
    "plt.gca().get_xaxis().set_major_locator(ticker.MaxNLocator(integer=True))\n",
    "plt.plot([0] + list( np.cumsum(pca.explained_variance_ratio_)), \"-o\")\n",
    "plt.xlabel(\"Number of principal components\")\n",
    "plt.ylabel(\"Cumulative contribution rate\")\n",
    "plt.grid()\n",
    "plt.show()"
   ]
  },
  {
   "cell_type": "code",
   "execution_count": null,
   "metadata": {},
   "outputs": [],
   "source": [
    "new_df=pd.DataFrame(features, columns=[\"PC{}\".format(x + 1) for x in range(len(df.drop(['label', 'user'], axis=1).columns))])"
   ]
  },
  {
   "cell_type": "code",
   "execution_count": null,
   "metadata": {},
   "outputs": [],
   "source": [
    "new_df=new_df.iloc[:, 0:16]"
   ]
  },
  {
   "cell_type": "code",
   "execution_count": null,
   "metadata": {},
   "outputs": [],
   "source": [
    "from sklearn.linear_model import LogisticRegression\n",
    "from sklearn.decomposition import PCA\n",
    "# 主成分数を指定して、PCA のインスタンスを生成\n",
    "pca = PCA()\n",
    "# ロジスティック回帰のインスタンスを生成\n",
    "lr = LogisticRegression()\n",
    "# トレーニングデータとテストデータで PCA を実行\n",
    "# X_train_pca = pca.fit_transform(features)\n",
    "# X_test_pca = pca.transform(X_test_std)"
   ]
  },
  {
   "cell_type": "code",
   "execution_count": null,
   "metadata": {},
   "outputs": [],
   "source": [
    "new_df.to_csv('../../etc/windows_features/pca.csv', index=False)"
   ]
  },
  {
   "cell_type": "code",
   "execution_count": null,
   "metadata": {},
   "outputs": [],
   "source": []
  }
 ],
 "metadata": {
  "kernelspec": {
   "display_name": "Python 3",
   "language": "python",
   "name": "python3"
  },
  "language_info": {
   "codemirror_mode": {
    "name": "ipython",
    "version": 3
   },
   "file_extension": ".py",
   "mimetype": "text/x-python",
   "name": "python",
   "nbconvert_exporter": "python",
   "pygments_lexer": "ipython3",
   "version": "3.6.9"
  }
 },
 "nbformat": 4,
 "nbformat_minor": 2
}
