{
 "cells": [
  {
   "cell_type": "markdown",
   "metadata": {},
   "source": [
    "# import module"
   ]
  },
  {
   "cell_type": "code",
   "execution_count": 1,
   "metadata": {},
   "outputs": [
    {
     "name": "stderr",
     "output_type": "stream",
     "text": [
      "/home/nishiolab/.local/lib/python3.6/site-packages/sklearn/externals/six.py:31: FutureWarning: The module is deprecated in version 0.21 and will be removed in version 0.23 since we've dropped support for Python 2.7. Please rely on the official version of six (https://pypi.org/project/six/).\n",
      "  \"(https://pypi.org/project/six/).\", FutureWarning)\n"
     ]
    }
   ],
   "source": [
    "from sklearn import tree\n",
    "import pandas as pd\n",
    "import numpy as np\n",
    "import os as oss\n",
    "import seaborn as sns; sns.set()\n",
    "import matplotlib.pyplot as plt\n",
    "from sklearn.metrics import confusion_matrix\n",
    "from sklearn.model_selection import StratifiedKFold, cross_validate, KFold, train_test_split\n",
    "from sklearn.metrics import accuracy_score, cohen_kappa_score, make_scorer, f1_score, recall_score\n",
    "from sklearn.preprocessing import MinMaxScaler, minmax_scale\n",
    "\n",
    "import pydotplus, pprint\n",
    "from sklearn.externals.six import StringIO\n",
    "from IPython.display import Image\n",
    "from sklearn.linear_model import LogisticRegression\n",
    "\n",
    "from catboost import CatBoostClassifier, CatBoost\n",
    "import lightgbm as lgb\n",
    "import xgboost as xgb\n",
    "from tqdm import tqdm\n",
    "import glob\n",
    "import pickle"
   ]
  },
  {
   "cell_type": "markdown",
   "metadata": {},
   "source": [
    "# main"
   ]
  },
  {
   "cell_type": "markdown",
   "metadata": {},
   "source": [
    "# データいじいじ"
   ]
  },
  {
   "cell_type": "code",
   "execution_count": 6,
   "metadata": {},
   "outputs": [],
   "source": [
    "step_count=pd.read_csv('../../etc/step_num_UT_cont/features.csv')\n",
    "gradient=pd.read_csv('../../etc/gradient_UT/features.csv')\n",
    "datas=pd.read_csv('../../etc/windows_features/clipped_std_features.csv')\n",
    "\n",
    "datas['SC_M']=step_count['SC_M']\n",
    "datas['SCF_M']=step_count['SCF_M']\n",
    "datas['SCP_M']=step_count['SCP_M']\n",
    "datas['gradient_M']=gradient['gradient_M']\n",
    "datas['SC_H']=step_count['SC_H']\n",
    "datas['SCF_H']=step_count['SCF_H']\n",
    "datas['SCP_H']=step_count['SCP_H']\n",
    "datas['gradient_H']=gradient['gradient_H']\n",
    "\n",
    "datas=datas[datas['user']!=\"7NM9zimotoB\"]\n",
    "datas=datas[datas['user']!=\"7NM2zimotoD\"]\n",
    "datas=datas[datas['user']!=\"6NM9yossi\"]"
   ]
  },
  {
   "cell_type": "code",
   "execution_count": 7,
   "metadata": {},
   "outputs": [],
   "source": [
    "import warnings\n",
    "warnings.simplefilter('ignore')\n",
    "\n",
    "moving=datas[datas['label']=='m']\n",
    "observing=datas[datas['label']=='o']\n",
    "searching=datas[datas['label']=='s']\n",
    "\n",
    "moving['index']=0\n",
    "searching['index']=1\n",
    "observing['index']=2\n",
    "\n",
    "moving['indexMO']=0\n",
    "searching['indexMO']=0\n",
    "observing['indexMO']=1"
   ]
  },
  {
   "cell_type": "code",
   "execution_count": 4,
   "metadata": {},
   "outputs": [],
   "source": [
    "moving_train, moving_test=train_test_split(moving, train_size=6000, random_state=0)\n",
    "observing_train, observing_test=train_test_split(observing, train_size=6000, random_state=0)\n",
    "searching_train, searching_test=train_test_split(searching, train_size=6000, random_state=0)\n",
    "\n",
    "df_train=pd.concat([moving_train, searching_train, observing_train])\n",
    "df_test=pd.concat([moving_test, searching_test, observing_test])"
   ]
  },
  {
   "cell_type": "code",
   "execution_count": 152,
   "metadata": {},
   "outputs": [],
   "source": [
    "moving_train=moving[moving['user']!='5NM4tiger']\n",
    "observing_train=observing[observing['user']!='5NM4tiger']\n",
    "searching_train=searching[searching['user']!='5NM4tiger']\n",
    "\n",
    "moving_test=moving[moving['user']=='5NM4tiger']\n",
    "observing_test=observing[observing['user']=='5NM4tiger']\n",
    "searching_test=searching[searching['user']=='5NM4tiger']\n",
    "\n",
    "df_train=pd.concat([moving_train, searching_train, observing_train])\n",
    "df_test=pd.concat([moving_test, searching_test, observing_test])"
   ]
  },
  {
   "cell_type": "code",
   "execution_count": 153,
   "metadata": {},
   "outputs": [],
   "source": [
    "x_train=df_train.drop(['label', 'user', 'index', 'indexMO'], axis=1)\n",
    "y_train=df_train[['index', 'indexMO']]\n",
    "x_test=df_test.drop(['label', 'user', 'index', 'indexMO'], axis=1)\n",
    "y_test=df_test[['index', 'indexMO']]"
   ]
  },
  {
   "cell_type": "code",
   "execution_count": 154,
   "metadata": {},
   "outputs": [],
   "source": [
    "x_train=x_train[['acc_std_window0', 'acc_x_std_window0', 'gyro_y_std_window0',\n",
    "       'gyro_x_std_window1', 'acc_y_std_window2', 'acc_z_std_window2',\n",
    "       'acc_kurtosis_window3', 'acc_skewness_window3', 'acc_std_window3',\n",
    "       'acc_z_std_window3', 'SC_M', 'SCF_M', 'SCP_M', 'gradient_M', 'SC_H', 'SCF_H', 'SCP_H', 'gradient_H']]\n",
    "\n",
    "x_test=x_test[['acc_std_window0', 'acc_x_std_window0', 'gyro_y_std_window0',\n",
    "       'gyro_x_std_window1', 'acc_y_std_window2', 'acc_z_std_window2',\n",
    "       'acc_kurtosis_window3', 'acc_skewness_window3', 'acc_std_window3',\n",
    "       'acc_z_std_window3', 'SC_M', 'SCF_M', 'SCP_M', 'gradient_M', 'SC_H', 'SCF_H', 'SCP_H', 'gradient_H']]"
   ]
  },
  {
   "cell_type": "markdown",
   "metadata": {},
   "source": [
    "# 分類"
   ]
  },
  {
   "cell_type": "code",
   "execution_count": 161,
   "metadata": {
    "collapsed": true
   },
   "outputs": [
    {
     "name": "stdout",
     "output_type": "stream",
     "text": [
      "0.9037656903765691\n"
     ]
    },
    {
     "data": {
      "text/plain": [
       "767     True\n",
       "768     True\n",
       "769     True\n",
       "770     True\n",
       "771     True\n",
       "       ...  \n",
       "919    False\n",
       "920    False\n",
       "964    False\n",
       "965    False\n",
       "966    False\n",
       "Length: 184, dtype: bool"
      ]
     },
     "execution_count": 161,
     "metadata": {},
     "output_type": "execute_result"
    }
   ],
   "source": [
    "from sklearn import svm, metrics, preprocessing\n",
    "\n",
    "clf = svm.SVC(kernel='rbf', gamma=0.6, C=0.6, class_weight='balanced')\n",
    "clf.fit(x_train, y_train[['indexMO']])\n",
    "\n",
    "clf_pr=clf.predict(x_test)\n",
    "ac_score=metrics.accuracy_score(y_test[['indexMO']], clf_pr)\n",
    "\n",
    "print(ac_score)\n",
    "#print(confusion_matrix(y_test, clf_pr))\n",
    "\n",
    "y_test['pred_index']=clf_pr\n",
    "\n",
    "x2_test=x_test[y_test['pred_index']==1]\n",
    "y2_test=y_test[y_test['pred_index']==1][['index']]\n",
    "\n",
    "clf2 = svm.SVC(kernel='rbf', gamma=0.6, C=0.6, class_weight='balanced')\n",
    "clf2.fit(x_train, y_train[['index']])\n",
    "\n",
    "clf2_pr=clf2.predict(x2_test)\n",
    "ac_score=metrics.accuracy_score(y2_test, clf2_pr)\n",
    "\n",
    "y2_test['pred2_index']=clf2_pr\n",
    "\n",
    "y2_test['index']==y2_test['pred2_index']"
   ]
  },
  {
   "cell_type": "code",
   "execution_count": 166,
   "metadata": {},
   "outputs": [],
   "source": [
    "o_index=pd.DataFrame({'index':y_test[y_test['pred_index']==2]['pred_index']})"
   ]
  },
  {
   "cell_type": "code",
   "execution_count": 164,
   "metadata": {},
   "outputs": [],
   "source": [
    "ms_index=pd.DataFrame({'index':y2_test['pred2_index']})"
   ]
  },
  {
   "cell_type": "code",
   "execution_count": 168,
   "metadata": {},
   "outputs": [],
   "source": [
    "o_index.loc[o_index['index']==2, 'index']=3"
   ]
  },
  {
   "cell_type": "code",
   "execution_count": 173,
   "metadata": {},
   "outputs": [],
   "source": [
    "p=pd.concat([o_index, ms_index])"
   ]
  },
  {
   "cell_type": "code",
   "execution_count": 176,
   "metadata": {
    "collapsed": true
   },
   "outputs": [
    {
     "data": {
      "text/html": [
       "<div>\n",
       "<style scoped>\n",
       "    .dataframe tbody tr th:only-of-type {\n",
       "        vertical-align: middle;\n",
       "    }\n",
       "\n",
       "    .dataframe tbody tr th {\n",
       "        vertical-align: top;\n",
       "    }\n",
       "\n",
       "    .dataframe thead th {\n",
       "        text-align: right;\n",
       "    }\n",
       "</style>\n",
       "<table border=\"1\" class=\"dataframe\">\n",
       "  <thead>\n",
       "    <tr style=\"text-align: right;\">\n",
       "      <th></th>\n",
       "      <th>index</th>\n",
       "    </tr>\n",
       "  </thead>\n",
       "  <tbody>\n",
       "    <tr>\n",
       "      <th>765</th>\n",
       "      <td>3</td>\n",
       "    </tr>\n",
       "    <tr>\n",
       "      <th>766</th>\n",
       "      <td>3</td>\n",
       "    </tr>\n",
       "    <tr>\n",
       "      <th>879</th>\n",
       "      <td>3</td>\n",
       "    </tr>\n",
       "    <tr>\n",
       "      <th>880</th>\n",
       "      <td>3</td>\n",
       "    </tr>\n",
       "    <tr>\n",
       "      <th>881</th>\n",
       "      <td>3</td>\n",
       "    </tr>\n",
       "    <tr>\n",
       "      <th>956</th>\n",
       "      <td>3</td>\n",
       "    </tr>\n",
       "    <tr>\n",
       "      <th>957</th>\n",
       "      <td>3</td>\n",
       "    </tr>\n",
       "    <tr>\n",
       "      <th>958</th>\n",
       "      <td>3</td>\n",
       "    </tr>\n",
       "    <tr>\n",
       "      <th>959</th>\n",
       "      <td>3</td>\n",
       "    </tr>\n",
       "    <tr>\n",
       "      <th>1009</th>\n",
       "      <td>3</td>\n",
       "    </tr>\n",
       "    <tr>\n",
       "      <th>1010</th>\n",
       "      <td>3</td>\n",
       "    </tr>\n",
       "    <tr>\n",
       "      <th>866</th>\n",
       "      <td>3</td>\n",
       "    </tr>\n",
       "    <tr>\n",
       "      <th>867</th>\n",
       "      <td>3</td>\n",
       "    </tr>\n",
       "    <tr>\n",
       "      <th>945</th>\n",
       "      <td>3</td>\n",
       "    </tr>\n",
       "    <tr>\n",
       "      <th>817</th>\n",
       "      <td>3</td>\n",
       "    </tr>\n",
       "    <tr>\n",
       "      <th>820</th>\n",
       "      <td>3</td>\n",
       "    </tr>\n",
       "    <tr>\n",
       "      <th>821</th>\n",
       "      <td>3</td>\n",
       "    </tr>\n",
       "    <tr>\n",
       "      <th>822</th>\n",
       "      <td>3</td>\n",
       "    </tr>\n",
       "    <tr>\n",
       "      <th>823</th>\n",
       "      <td>3</td>\n",
       "    </tr>\n",
       "    <tr>\n",
       "      <th>824</th>\n",
       "      <td>3</td>\n",
       "    </tr>\n",
       "    <tr>\n",
       "      <th>825</th>\n",
       "      <td>3</td>\n",
       "    </tr>\n",
       "    <tr>\n",
       "      <th>826</th>\n",
       "      <td>3</td>\n",
       "    </tr>\n",
       "    <tr>\n",
       "      <th>827</th>\n",
       "      <td>3</td>\n",
       "    </tr>\n",
       "    <tr>\n",
       "      <th>828</th>\n",
       "      <td>3</td>\n",
       "    </tr>\n",
       "    <tr>\n",
       "      <th>829</th>\n",
       "      <td>3</td>\n",
       "    </tr>\n",
       "    <tr>\n",
       "      <th>830</th>\n",
       "      <td>3</td>\n",
       "    </tr>\n",
       "    <tr>\n",
       "      <th>831</th>\n",
       "      <td>3</td>\n",
       "    </tr>\n",
       "    <tr>\n",
       "      <th>832</th>\n",
       "      <td>3</td>\n",
       "    </tr>\n",
       "    <tr>\n",
       "      <th>833</th>\n",
       "      <td>3</td>\n",
       "    </tr>\n",
       "    <tr>\n",
       "      <th>834</th>\n",
       "      <td>3</td>\n",
       "    </tr>\n",
       "    <tr>\n",
       "      <th>835</th>\n",
       "      <td>3</td>\n",
       "    </tr>\n",
       "    <tr>\n",
       "      <th>836</th>\n",
       "      <td>3</td>\n",
       "    </tr>\n",
       "    <tr>\n",
       "      <th>837</th>\n",
       "      <td>3</td>\n",
       "    </tr>\n",
       "    <tr>\n",
       "      <th>838</th>\n",
       "      <td>3</td>\n",
       "    </tr>\n",
       "    <tr>\n",
       "      <th>839</th>\n",
       "      <td>3</td>\n",
       "    </tr>\n",
       "    <tr>\n",
       "      <th>840</th>\n",
       "      <td>3</td>\n",
       "    </tr>\n",
       "    <tr>\n",
       "      <th>841</th>\n",
       "      <td>3</td>\n",
       "    </tr>\n",
       "    <tr>\n",
       "      <th>842</th>\n",
       "      <td>3</td>\n",
       "    </tr>\n",
       "    <tr>\n",
       "      <th>843</th>\n",
       "      <td>3</td>\n",
       "    </tr>\n",
       "    <tr>\n",
       "      <th>844</th>\n",
       "      <td>3</td>\n",
       "    </tr>\n",
       "    <tr>\n",
       "      <th>845</th>\n",
       "      <td>3</td>\n",
       "    </tr>\n",
       "    <tr>\n",
       "      <th>868</th>\n",
       "      <td>3</td>\n",
       "    </tr>\n",
       "    <tr>\n",
       "      <th>869</th>\n",
       "      <td>3</td>\n",
       "    </tr>\n",
       "    <tr>\n",
       "      <th>870</th>\n",
       "      <td>3</td>\n",
       "    </tr>\n",
       "    <tr>\n",
       "      <th>871</th>\n",
       "      <td>3</td>\n",
       "    </tr>\n",
       "    <tr>\n",
       "      <th>913</th>\n",
       "      <td>3</td>\n",
       "    </tr>\n",
       "    <tr>\n",
       "      <th>914</th>\n",
       "      <td>3</td>\n",
       "    </tr>\n",
       "    <tr>\n",
       "      <th>915</th>\n",
       "      <td>3</td>\n",
       "    </tr>\n",
       "    <tr>\n",
       "      <th>916</th>\n",
       "      <td>3</td>\n",
       "    </tr>\n",
       "    <tr>\n",
       "      <th>917</th>\n",
       "      <td>3</td>\n",
       "    </tr>\n",
       "    <tr>\n",
       "      <th>918</th>\n",
       "      <td>3</td>\n",
       "    </tr>\n",
       "    <tr>\n",
       "      <th>960</th>\n",
       "      <td>3</td>\n",
       "    </tr>\n",
       "    <tr>\n",
       "      <th>961</th>\n",
       "      <td>3</td>\n",
       "    </tr>\n",
       "    <tr>\n",
       "      <th>962</th>\n",
       "      <td>3</td>\n",
       "    </tr>\n",
       "    <tr>\n",
       "      <th>963</th>\n",
       "      <td>3</td>\n",
       "    </tr>\n",
       "  </tbody>\n",
       "</table>\n",
       "</div>"
      ],
      "text/plain": [
       "      index\n",
       "765       3\n",
       "766       3\n",
       "879       3\n",
       "880       3\n",
       "881       3\n",
       "956       3\n",
       "957       3\n",
       "958       3\n",
       "959       3\n",
       "1009      3\n",
       "1010      3\n",
       "866       3\n",
       "867       3\n",
       "945       3\n",
       "817       3\n",
       "820       3\n",
       "821       3\n",
       "822       3\n",
       "823       3\n",
       "824       3\n",
       "825       3\n",
       "826       3\n",
       "827       3\n",
       "828       3\n",
       "829       3\n",
       "830       3\n",
       "831       3\n",
       "832       3\n",
       "833       3\n",
       "834       3\n",
       "835       3\n",
       "836       3\n",
       "837       3\n",
       "838       3\n",
       "839       3\n",
       "840       3\n",
       "841       3\n",
       "842       3\n",
       "843       3\n",
       "844       3\n",
       "845       3\n",
       "868       3\n",
       "869       3\n",
       "870       3\n",
       "871       3\n",
       "913       3\n",
       "914       3\n",
       "915       3\n",
       "916       3\n",
       "917       3\n",
       "918       3\n",
       "960       3\n",
       "961       3\n",
       "962       3\n",
       "963       3"
      ]
     },
     "execution_count": 176,
     "metadata": {},
     "output_type": "execute_result"
    }
   ],
   "source": [
    "o_index"
   ]
  },
  {
   "cell_type": "code",
   "execution_count": 194,
   "metadata": {},
   "outputs": [
    {
     "data": {
      "text/plain": [
       "index    1\n",
       "Name: 767, dtype: int64"
      ]
     },
     "execution_count": 194,
     "metadata": {},
     "output_type": "execute_result"
    }
   ],
   "source": [
    "ms_index.loc(0)[767]"
   ]
  },
  {
   "cell_type": "code",
   "execution_count": 209,
   "metadata": {},
   "outputs": [
    {
     "data": {
      "text/plain": [
       "index    3\n",
       "Name: 766, dtype: int64"
      ]
     },
     "execution_count": 209,
     "metadata": {},
     "output_type": "execute_result"
    }
   ],
   "source": [
    "o_index.loc(0)[766]"
   ]
  },
  {
   "cell_type": "code",
   "execution_count": 210,
   "metadata": {
    "collapsed": true
   },
   "outputs": [
    {
     "ename": "KeyError",
     "evalue": "'Name'",
     "output_type": "error",
     "traceback": [
      "\u001b[0;31m---------------------------------------------------------------------------\u001b[0m",
      "\u001b[0;31mKeyError\u001b[0m                                  Traceback (most recent call last)",
      "\u001b[0;32m~/.local/lib/python3.6/site-packages/pandas/core/indexes/base.py\u001b[0m in \u001b[0;36mget_loc\u001b[0;34m(self, key, method, tolerance)\u001b[0m\n\u001b[1;32m   2645\u001b[0m             \u001b[0;32mtry\u001b[0m\u001b[0;34m:\u001b[0m\u001b[0;34m\u001b[0m\u001b[0;34m\u001b[0m\u001b[0m\n\u001b[0;32m-> 2646\u001b[0;31m                 \u001b[0;32mreturn\u001b[0m \u001b[0mself\u001b[0m\u001b[0;34m.\u001b[0m\u001b[0m_engine\u001b[0m\u001b[0;34m.\u001b[0m\u001b[0mget_loc\u001b[0m\u001b[0;34m(\u001b[0m\u001b[0mkey\u001b[0m\u001b[0;34m)\u001b[0m\u001b[0;34m\u001b[0m\u001b[0;34m\u001b[0m\u001b[0m\n\u001b[0m\u001b[1;32m   2647\u001b[0m             \u001b[0;32mexcept\u001b[0m \u001b[0mKeyError\u001b[0m\u001b[0;34m:\u001b[0m\u001b[0;34m\u001b[0m\u001b[0;34m\u001b[0m\u001b[0m\n",
      "\u001b[0;32mpandas/_libs/index.pyx\u001b[0m in \u001b[0;36mpandas._libs.index.IndexEngine.get_loc\u001b[0;34m()\u001b[0m\n",
      "\u001b[0;32mpandas/_libs/index.pyx\u001b[0m in \u001b[0;36mpandas._libs.index.IndexEngine.get_loc\u001b[0;34m()\u001b[0m\n",
      "\u001b[0;32mpandas/_libs/hashtable_class_helper.pxi\u001b[0m in \u001b[0;36mpandas._libs.hashtable.PyObjectHashTable.get_item\u001b[0;34m()\u001b[0m\n",
      "\u001b[0;32mpandas/_libs/hashtable_class_helper.pxi\u001b[0m in \u001b[0;36mpandas._libs.hashtable.PyObjectHashTable.get_item\u001b[0;34m()\u001b[0m\n",
      "\u001b[0;31mKeyError\u001b[0m: 'Name'",
      "\nDuring handling of the above exception, another exception occurred:\n",
      "\u001b[0;31mKeyError\u001b[0m                                  Traceback (most recent call last)",
      "\u001b[0;32m<ipython-input-210-469dcacb8eb9>\u001b[0m in \u001b[0;36m<module>\u001b[0;34m\u001b[0m\n\u001b[0;32m----> 1\u001b[0;31m \u001b[0;32mfor\u001b[0m \u001b[0mk\u001b[0m \u001b[0;32min\u001b[0m \u001b[0mo_index\u001b[0m\u001b[0;34m[\u001b[0m\u001b[0;34m'Name'\u001b[0m\u001b[0;34m]\u001b[0m\u001b[0;34m:\u001b[0m\u001b[0;34m\u001b[0m\u001b[0;34m\u001b[0m\u001b[0m\n\u001b[0m\u001b[1;32m      2\u001b[0m     \u001b[0mprint\u001b[0m\u001b[0;34m(\u001b[0m\u001b[0mk\u001b[0m\u001b[0;34m)\u001b[0m\u001b[0;34m\u001b[0m\u001b[0;34m\u001b[0m\u001b[0m\n",
      "\u001b[0;32m~/.local/lib/python3.6/site-packages/pandas/core/frame.py\u001b[0m in \u001b[0;36m__getitem__\u001b[0;34m(self, key)\u001b[0m\n\u001b[1;32m   2798\u001b[0m             \u001b[0;32mif\u001b[0m \u001b[0mself\u001b[0m\u001b[0;34m.\u001b[0m\u001b[0mcolumns\u001b[0m\u001b[0;34m.\u001b[0m\u001b[0mnlevels\u001b[0m \u001b[0;34m>\u001b[0m \u001b[0;36m1\u001b[0m\u001b[0;34m:\u001b[0m\u001b[0;34m\u001b[0m\u001b[0;34m\u001b[0m\u001b[0m\n\u001b[1;32m   2799\u001b[0m                 \u001b[0;32mreturn\u001b[0m \u001b[0mself\u001b[0m\u001b[0;34m.\u001b[0m\u001b[0m_getitem_multilevel\u001b[0m\u001b[0;34m(\u001b[0m\u001b[0mkey\u001b[0m\u001b[0;34m)\u001b[0m\u001b[0;34m\u001b[0m\u001b[0;34m\u001b[0m\u001b[0m\n\u001b[0;32m-> 2800\u001b[0;31m             \u001b[0mindexer\u001b[0m \u001b[0;34m=\u001b[0m \u001b[0mself\u001b[0m\u001b[0;34m.\u001b[0m\u001b[0mcolumns\u001b[0m\u001b[0;34m.\u001b[0m\u001b[0mget_loc\u001b[0m\u001b[0;34m(\u001b[0m\u001b[0mkey\u001b[0m\u001b[0;34m)\u001b[0m\u001b[0;34m\u001b[0m\u001b[0;34m\u001b[0m\u001b[0m\n\u001b[0m\u001b[1;32m   2801\u001b[0m             \u001b[0;32mif\u001b[0m \u001b[0mis_integer\u001b[0m\u001b[0;34m(\u001b[0m\u001b[0mindexer\u001b[0m\u001b[0;34m)\u001b[0m\u001b[0;34m:\u001b[0m\u001b[0;34m\u001b[0m\u001b[0;34m\u001b[0m\u001b[0m\n\u001b[1;32m   2802\u001b[0m                 \u001b[0mindexer\u001b[0m \u001b[0;34m=\u001b[0m \u001b[0;34m[\u001b[0m\u001b[0mindexer\u001b[0m\u001b[0;34m]\u001b[0m\u001b[0;34m\u001b[0m\u001b[0;34m\u001b[0m\u001b[0m\n",
      "\u001b[0;32m~/.local/lib/python3.6/site-packages/pandas/core/indexes/base.py\u001b[0m in \u001b[0;36mget_loc\u001b[0;34m(self, key, method, tolerance)\u001b[0m\n\u001b[1;32m   2646\u001b[0m                 \u001b[0;32mreturn\u001b[0m \u001b[0mself\u001b[0m\u001b[0;34m.\u001b[0m\u001b[0m_engine\u001b[0m\u001b[0;34m.\u001b[0m\u001b[0mget_loc\u001b[0m\u001b[0;34m(\u001b[0m\u001b[0mkey\u001b[0m\u001b[0;34m)\u001b[0m\u001b[0;34m\u001b[0m\u001b[0;34m\u001b[0m\u001b[0m\n\u001b[1;32m   2647\u001b[0m             \u001b[0;32mexcept\u001b[0m \u001b[0mKeyError\u001b[0m\u001b[0;34m:\u001b[0m\u001b[0;34m\u001b[0m\u001b[0;34m\u001b[0m\u001b[0m\n\u001b[0;32m-> 2648\u001b[0;31m                 \u001b[0;32mreturn\u001b[0m \u001b[0mself\u001b[0m\u001b[0;34m.\u001b[0m\u001b[0m_engine\u001b[0m\u001b[0;34m.\u001b[0m\u001b[0mget_loc\u001b[0m\u001b[0;34m(\u001b[0m\u001b[0mself\u001b[0m\u001b[0;34m.\u001b[0m\u001b[0m_maybe_cast_indexer\u001b[0m\u001b[0;34m(\u001b[0m\u001b[0mkey\u001b[0m\u001b[0;34m)\u001b[0m\u001b[0;34m)\u001b[0m\u001b[0;34m\u001b[0m\u001b[0;34m\u001b[0m\u001b[0m\n\u001b[0m\u001b[1;32m   2649\u001b[0m         \u001b[0mindexer\u001b[0m \u001b[0;34m=\u001b[0m \u001b[0mself\u001b[0m\u001b[0;34m.\u001b[0m\u001b[0mget_indexer\u001b[0m\u001b[0;34m(\u001b[0m\u001b[0;34m[\u001b[0m\u001b[0mkey\u001b[0m\u001b[0;34m]\u001b[0m\u001b[0;34m,\u001b[0m \u001b[0mmethod\u001b[0m\u001b[0;34m=\u001b[0m\u001b[0mmethod\u001b[0m\u001b[0;34m,\u001b[0m \u001b[0mtolerance\u001b[0m\u001b[0;34m=\u001b[0m\u001b[0mtolerance\u001b[0m\u001b[0;34m)\u001b[0m\u001b[0;34m\u001b[0m\u001b[0;34m\u001b[0m\u001b[0m\n\u001b[1;32m   2650\u001b[0m         \u001b[0;32mif\u001b[0m \u001b[0mindexer\u001b[0m\u001b[0;34m.\u001b[0m\u001b[0mndim\u001b[0m \u001b[0;34m>\u001b[0m \u001b[0;36m1\u001b[0m \u001b[0;32mor\u001b[0m \u001b[0mindexer\u001b[0m\u001b[0;34m.\u001b[0m\u001b[0msize\u001b[0m \u001b[0;34m>\u001b[0m \u001b[0;36m1\u001b[0m\u001b[0;34m:\u001b[0m\u001b[0;34m\u001b[0m\u001b[0;34m\u001b[0m\u001b[0m\n",
      "\u001b[0;32mpandas/_libs/index.pyx\u001b[0m in \u001b[0;36mpandas._libs.index.IndexEngine.get_loc\u001b[0;34m()\u001b[0m\n",
      "\u001b[0;32mpandas/_libs/index.pyx\u001b[0m in \u001b[0;36mpandas._libs.index.IndexEngine.get_loc\u001b[0;34m()\u001b[0m\n",
      "\u001b[0;32mpandas/_libs/hashtable_class_helper.pxi\u001b[0m in \u001b[0;36mpandas._libs.hashtable.PyObjectHashTable.get_item\u001b[0;34m()\u001b[0m\n",
      "\u001b[0;32mpandas/_libs/hashtable_class_helper.pxi\u001b[0m in \u001b[0;36mpandas._libs.hashtable.PyObjectHashTable.get_item\u001b[0;34m()\u001b[0m\n",
      "\u001b[0;31mKeyError\u001b[0m: 'Name'"
     ]
    }
   ],
   "source": [
    "for k in o_index['Name']:\n",
    "    print(k)"
   ]
  },
  {
   "cell_type": "markdown",
   "metadata": {},
   "source": [
    "# result"
   ]
  },
  {
   "cell_type": "code",
   "execution_count": 162,
   "metadata": {},
   "outputs": [
    {
     "data": {
      "text/plain": [
       "0.7238493723849372"
      ]
     },
     "execution_count": 162,
     "metadata": {},
     "output_type": "execute_result"
    }
   ],
   "source": [
    "result=pd.DataFrame()\n",
    "\n",
    "result['result']=y2_test['index']==y2_test['pred2_index']\n",
    "\n",
    "a=pd.DataFrame(y_test[y_test['pred_index']==2]['indexMO']==y_test[y_test['pred_index']==2]['pred_index'], columns=['result'])\n",
    "\n",
    "result=pd.concat([result, a])\n",
    "\n",
    "len(result[result['result']==True])/len(result)"
   ]
  },
  {
   "cell_type": "markdown",
   "metadata": {},
   "source": [
    "# k-fold"
   ]
  },
  {
   "cell_type": "code",
   "execution_count": 9,
   "metadata": {},
   "outputs": [],
   "source": [
    "from sklearn.model_selection import KFold\n",
    "from sklearn import svm, metrics, preprocessing\n",
    "\n",
    "DATA=pd.concat([moving, searching, observing])"
   ]
  },
  {
   "cell_type": "code",
   "execution_count": 54,
   "metadata": {
    "scrolled": true
   },
   "outputs": [],
   "source": [
    "kf=KFold(n_splits=10, shuffle=True, random_state=1)\n",
    "scores_m=[]\n",
    "scores_s=[]\n",
    "scores_o=[]\n",
    "\n",
    "for train_index, test_index in kf.split(DATA):\n",
    "    df_train = DATA.iloc[train_index]\n",
    "    df_test = DATA.iloc[test_index]\n",
    "    \n",
    "    x_train=df_train.drop(['label', 'user', 'index', 'indexMO'], axis=1)\n",
    "    y_train=df_train[['index', 'indexMO']]\n",
    "    x_test=df_test.drop(['label', 'user', 'index', 'indexMO'], axis=1)\n",
    "    y_test=df_test[['index', 'indexMO']]\n",
    "    \n",
    "    #x_train=x_train[['SC_M', 'SCF_M', 'SCP_M', 'gradient_M', 'SC_H', 'SCF_H', 'SCP_H', 'gradient_H']]\n",
    "    #x_test=x_test[['SC_M', 'SCF_M', 'SCP_M', 'gradient_M', 'SC_H', 'SCF_H', 'SCP_H', 'gradient_H']]\n",
    "    x_train=x_train[['acc_std_window0', 'acc_x_std_window0', 'gyro_y_std_window0',\n",
    "       'gyro_x_std_window1', 'acc_y_std_window2', 'acc_z_std_window2',\n",
    "       'acc_kurtosis_window3', 'acc_skewness_window3', 'acc_std_window3',\n",
    "       'acc_z_std_window3', 'SC_M', 'SCF_M', 'SCP_M', 'gradient_M', 'SC_H', 'SCF_H', 'SCP_H', 'gradient_H']]\n",
    "\n",
    "    x_test=x_test[['acc_std_window0', 'acc_x_std_window0', 'gyro_y_std_window0',\n",
    "       'gyro_x_std_window1', 'acc_y_std_window2', 'acc_z_std_window2',\n",
    "       'acc_kurtosis_window3', 'acc_skewness_window3', 'acc_std_window3',\n",
    "       'acc_z_std_window3', 'SC_M', 'SCF_M', 'SCP_M', 'gradient_M', 'SC_H', 'SCF_H', 'SCP_H', 'gradient_H']]\n",
    "    \n",
    "    clf = svm.SVC(kernel='rbf', gamma=0.6, C=0.6, class_weight='balanced')\n",
    "    clf.fit(x_train, y_train[['indexMO']])\n",
    "    clf_pr=clf.predict(x_test)\n",
    "\n",
    "    y_test['pred_index']=clf_pr\n",
    "\n",
    "    x2_test=x_test[y_test['pred_index']==0]\n",
    "    y2_test=y_test[y_test['pred_index']==0][['index']]\n",
    "    \n",
    "    clf2 = svm.SVC(kernel='rbf', gamma=0.6, C=0.6, class_weight='balanced')\n",
    "    x_train = x_train[(y_train['index']==0) | (y_train['index']==1)]\n",
    "    #x_train = x_train[['SC_M', 'SCF_M', 'SCP_M', 'gradient_M', 'SC_H', 'SCF_H', 'SCP_H', 'gradient_H']]\n",
    "    y_train = y_train[(y_train['index']==0) | (y_train['index']==1)]\n",
    "    clf2.fit(x_train, y_train[['index']])\n",
    "    #clf2_pr=clf2.predict(x2_test[['SC_M', 'SCF_M', 'SCP_M', 'gradient_M', 'SC_H', 'SCF_H', 'SCP_H', 'gradient_H']])\n",
    "    clf2_pr=clf2.predict(x2_test)\n",
    "\n",
    "    y2_test['pred2_index']=clf2_pr\n",
    "    \n",
    "    #result['result'] = y2_test['index']==y2_test['pred2_index']\n",
    "    #a=pd.DataFrame(y_test[y_test['pred_index']==1]['indexMO']==y_test[y_test['pred_index']==1]['pred_index'], columns=['result'])\n",
    "    #results=pd.concat([result, a])\n",
    "    \n",
    "    #Search精度確認用\n",
    "    result_m=pd.DataFrame()\n",
    "    y2_test_m=y2_test[y2_test['index']==0]\n",
    "    result_m['result'] = y2_test_m['index']==y2_test_m['pred2_index']\n",
    "    scores_m+=[len(result_m[result_m['result']==True])/len(df_test[df_test['index']==0])]\n",
    "    \n",
    "    result_s=pd.DataFrame()\n",
    "    y2_test_s=y2_test[y2_test['index']==1]\n",
    "    result_s['result'] = y2_test_s['index']==y2_test_s['pred2_index']\n",
    "    scores_s+=[len(result_s[result_s['result']==True])/len(df_test[df_test['index']==1])]\n",
    "    \n",
    "    result_o=pd.DataFrame()\n",
    "    y_test_o=y_test[y_test['index']==2]\n",
    "    result_o['result'] = y_test_o['indexMO']==y_test_o['pred_index']\n",
    "    scores_o+=[len(result_o[result_o['result']==True])/len(df_test[df_test['index']==2])]"
   ]
  },
  {
   "cell_type": "code",
   "execution_count": 35,
   "metadata": {},
   "outputs": [
    {
     "data": {
      "text/plain": [
       "0.7261153071475621"
      ]
     },
     "execution_count": 35,
     "metadata": {},
     "output_type": "execute_result"
    }
   ],
   "source": [
    "sum(scores)/len(scores)"
   ]
  },
  {
   "cell_type": "code",
   "execution_count": 55,
   "metadata": {},
   "outputs": [
    {
     "name": "stdout",
     "output_type": "stream",
     "text": [
      "0.7458170275893299\n",
      "0.5531092132463259\n",
      "0.895087517292756\n"
     ]
    }
   ],
   "source": [
    "print(sum(scores_m)/len(scores_m))\n",
    "print(sum(scores_s)/len(scores_s))\n",
    "print(sum(scores_o)/len(scores_o))"
   ]
  },
  {
   "cell_type": "code",
   "execution_count": 42,
   "metadata": {},
   "outputs": [
    {
     "name": "stdout",
     "output_type": "stream",
     "text": [
      "11000 6755 8088\n"
     ]
    }
   ],
   "source": [
    "print(len(moving), len(searching), len(observing))"
   ]
  },
  {
   "cell_type": "code",
   "execution_count": 46,
   "metadata": {},
   "outputs": [
    {
     "data": {
      "text/plain": [
       "0.012155043834011307"
      ]
     },
     "execution_count": 46,
     "metadata": {},
     "output_type": "execute_result"
    }
   ],
   "source": [
    "np.array(scores).std()"
   ]
  }
 ],
 "metadata": {
  "kernelspec": {
   "display_name": "Python 3",
   "language": "python",
   "name": "python3"
  },
  "language_info": {
   "codemirror_mode": {
    "name": "ipython",
    "version": 3
   },
   "file_extension": ".py",
   "mimetype": "text/x-python",
   "name": "python",
   "nbconvert_exporter": "python",
   "pygments_lexer": "ipython3",
   "version": "3.6.9"
  }
 },
 "nbformat": 4,
 "nbformat_minor": 2
}
