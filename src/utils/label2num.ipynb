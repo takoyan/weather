{
 "cells": [
  {
   "cell_type": "code",
   "execution_count": 1,
   "metadata": {},
   "outputs": [],
   "source": [
    "import pandas as pd\n",
    "import glob\n",
    "import os"
   ]
  },
  {
   "cell_type": "code",
   "execution_count": 20,
   "metadata": {},
   "outputs": [],
   "source": [
    "for file in glob.glob(\"../../etc/label/*.csv\"):\n",
    "    # 同一ファイル内のすべてのcsvファイルの名前を取得\n",
    "    file_name=os.path.basename(file).split(\".csv\")[0]\n",
    "    df=pd.DataFrame(columns={'label'}) # 抽出後の特徴量格納用\n",
    "    labels=pd.read_csv(\"../../etc/label/{}.csv\".format(file_name), header=None) # カラフルpdrようのラベルデータ取得\n",
    "    label_num=[]\n",
    "    \n",
    "    for label in labels[1]:\n",
    "        if label=='m' or label=='m ':\n",
    "            label_num+='1'\n",
    "        elif label=='s' or label=='s ':\n",
    "            label_num+='2'\n",
    "        elif label=='o' or label=='o ':\n",
    "            label_num+='3'\n",
    "        else:\n",
    "            continue\n",
    "    df['label']=label_num\n",
    "    df.to_csv('../../etc/label_num/{}.csv'.format(file_name), index=False, header=False)"
   ]
  },
  {
   "cell_type": "code",
   "execution_count": 4,
   "metadata": {},
   "outputs": [],
   "source": [
    "a=pd.DataFrame(columns={'num'})"
   ]
  },
  {
   "cell_type": "code",
   "execution_count": 16,
   "metadata": {},
   "outputs": [
    {
     "data": {
      "text/plain": [
       "'no'"
      ]
     },
     "execution_count": 16,
     "metadata": {},
     "output_type": "execute_result"
    }
   ],
   "source": [
    "pd.read_csv('../../etc/label/5NM1shibataku.csv', header=None)[1][0]"
   ]
  }
 ],
 "metadata": {
  "kernelspec": {
   "display_name": "Python 3",
   "language": "python",
   "name": "python3"
  },
  "language_info": {
   "codemirror_mode": {
    "name": "ipython",
    "version": 3
   },
   "file_extension": ".py",
   "mimetype": "text/x-python",
   "name": "python",
   "nbconvert_exporter": "python",
   "pygments_lexer": "ipython3",
   "version": "3.6.9"
  }
 },
 "nbformat": 4,
 "nbformat_minor": 2
}
