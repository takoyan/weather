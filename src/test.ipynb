{
 "cells": [
  {
   "cell_type": "code",
   "execution_count": 25,
   "metadata": {},
   "outputs": [],
   "source": [
    "import numpy as np\n",
    "import pandas as pd\n",
    "import matplotlib.pyplot as plt\n",
    "import matplotlib.mlab as mlab\n",
    "\n",
    "from sklearn.mixture import GaussianMixture\n",
    "from sklearn.datasets import load_iris\n",
    "\n",
    "# irisデータセットのロード\n",
    "iris = load_iris()\n",
    "df = pd.DataFrame(iris.data, columns=iris.feature_names)\n",
    "df['label'] = iris.target\n",
    "\n",
    "# 種類 (ラベル) によって、サンプル数を変えます\n",
    "d1 = df[df['label'] == 0].sample(30)  # setosa\n",
    "d2 = df[df['label'] == 1].sample(50)  # versicolor\n",
    "d3 = df[df['label'] == 2].sample(40)  # virginica\n",
    "\n",
    "# 萼片長のデータのみを使う\n",
    "X = pd.concat([d1['sepal length (cm)'], d2['sepal length (cm)'], d3['sepal length (cm)']])\n",
    "Y = pd.concat([d1['label'], d2['label'], d3['label']])"
   ]
  },
  {
   "cell_type": "code",
   "execution_count": 49,
   "metadata": {},
   "outputs": [],
   "source": [
    "gmm = GaussianMixture(\n",
    "    n_components=6,\n",
    "    covariance_type='spherical'\n",
    ").fit(\n",
    "    np.array(X).reshape(-1, 1)  # 次元数2を入力とするため変形\n",
    ")"
   ]
  },
  {
   "cell_type": "code",
   "execution_count": 50,
   "metadata": {
    "scrolled": true
   },
   "outputs": [
    {
     "name": "stdout",
     "output_type": "stream",
     "text": [
      "[2 2 2 2 2 2 1 2 2 2 2 1 1 2 2 2 2 5 2 2 2 5 2 2 1 1 2 2 2 2 5 5 0 5 5 1 1\n",
      " 4 5 5 5 0 1 5 4 2 2 5 4 4 0 1 1 0 4 0 3 0 5 5 2 4 0 4 4 2 2 1 0 0 0 4 0 0\n",
      " 5 0 4 0 5 0 0 4 0 0 0 0 0 3 4 0 4 3 0 0 3 0 3 4 0 3 0 2 3 4 0 0 0 0 0 0 0\n",
      " 5 5 0 0 3 5 3 0 0]\n",
      "0.31666666666666665\n"
     ]
    }
   ],
   "source": [
    "Y_predict = gmm.predict(np.array(X).reshape(-1, 1))\n",
    "print(Y_predict)\n",
    "\n",
    "# ラベルを 0->2, 1->0, 2->1 へ置き換える\n",
    "Y_new = Y.copy()\n",
    "Y_new[Y==0] = 2\n",
    "Y_new[Y==1] = 0\n",
    "Y_new[Y==2] = 1\n",
    "\n",
    "# 精度を計算\n",
    "print(sum(Y_new == Y_predict) / len(Y_new))"
   ]
  },
  {
   "cell_type": "code",
   "execution_count": 53,
   "metadata": {
    "scrolled": true
   },
   "outputs": [
    {
     "data": {
      "text/plain": [
       "300.183350967602"
      ]
     },
     "execution_count": 53,
     "metadata": {},
     "output_type": "execute_result"
    }
   ],
   "source": [
    "gmm.aic(np.array(X).reshape(-1, 1))"
   ]
  },
  {
   "cell_type": "code",
   "execution_count": 1,
   "metadata": {},
   "outputs": [
    {
     "name": "stdout",
     "output_type": "stream",
     "text": [
      "100\n"
     ]
    }
   ],
   "source": [
    "a=100\n",
    "b=a\n",
    "a=0\n",
    "print(b)"
   ]
  }
 ],
 "metadata": {
  "kernelspec": {
   "display_name": "Python 3",
   "language": "python",
   "name": "python3"
  },
  "language_info": {
   "codemirror_mode": {
    "name": "ipython",
    "version": 3
   },
   "file_extension": ".py",
   "mimetype": "text/x-python",
   "name": "python",
   "nbconvert_exporter": "python",
   "pygments_lexer": "ipython3",
   "version": "3.6.9"
  }
 },
 "nbformat": 4,
 "nbformat_minor": 2
}
